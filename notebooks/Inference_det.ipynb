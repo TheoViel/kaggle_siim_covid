{
 "cells": [
  {
   "cell_type": "code",
   "execution_count": null,
   "metadata": {},
   "outputs": [],
   "source": [
    "%load_ext autoreload\n",
    "%autoreload 2"
   ]
  },
  {
   "cell_type": "code",
   "execution_count": null,
   "metadata": {},
   "outputs": [],
   "source": [
    "%matplotlib inline"
   ]
  },
  {
   "cell_type": "code",
   "execution_count": null,
   "metadata": {},
   "outputs": [],
   "source": [
    "cd ../follidet/"
   ]
  },
  {
   "cell_type": "code",
   "execution_count": null,
   "metadata": {},
   "outputs": [],
   "source": [
    "# import sys\n",
    "# sys.path.append('../yolov5/')"
   ]
  },
  {
   "cell_type": "code",
   "execution_count": null,
   "metadata": {},
   "outputs": [],
   "source": [
    "import os\n",
    "import cv2\n",
    "import glob\n",
    "import json\n",
    "\n",
    "import numpy as np\n",
    "import pandas as pd\n",
    "import matplotlib.pyplot as plt\n",
    "\n",
    "from tqdm.notebook import tqdm\n",
    "from collections import Counter\n",
    "from matplotlib.patches import Rectangle"
   ]
  },
  {
   "cell_type": "code",
   "execution_count": null,
   "metadata": {},
   "outputs": [],
   "source": [
    "from params import *\n",
    "from inference import predict\n",
    "from model import define_model\n",
    "\n",
    "from data.dataset import InferenceDataset\n",
    "from data.transforms import OCT_preprocess\n",
    "\n",
    "from util.plot import plot_sample, plot_predictions\n",
    "from util.torch_utils import load_model_weights, seed_everything\n",
    "from util.saving import load_stack\n",
    "from util.boxes import yolo_to_volumes, expand_boxes\n",
    "\n",
    "from util.logger import Config"
   ]
  },
  {
   "cell_type": "markdown",
   "metadata": {},
   "source": [
    "## Data"
   ]
  },
  {
   "cell_type": "code",
   "execution_count": null,
   "metadata": {},
   "outputs": [],
   "source": [
    "DATA_PATH = \"../../../datasets/lipotec/\"\n",
    "SEG_PATH = \"../../../datasets/segmentations/lipotec_2/\"\n",
    "NAME = \"whitening\""
   ]
  },
  {
   "cell_type": "code",
   "execution_count": null,
   "metadata": {},
   "outputs": [],
   "source": [
    "STEP = 5\n",
    "PLOT = False\n",
    "SAVE = True\n",
    "\n",
    "SAVE_PATH = OUT_DIR"
   ]
  },
  {
   "cell_type": "code",
   "execution_count": null,
   "metadata": {},
   "outputs": [],
   "source": [
    "stack_paths = {}\n",
    "for root, dirs, files in os.walk(DATA_PATH):\n",
    "    for filename in files:\n",
    "        if filename.lower().endswith(\".dcm\") or filename.lower().endswith(\".tiff\"):\n",
    "            if \"macro-proc\" not in filename:\n",
    "                stack_paths[filename.split('.')[0]]= (os.path.join(root, filename))\n",
    "\n",
    "print(f'Found {len(stack_paths)} stacks')"
   ]
  },
  {
   "cell_type": "code",
   "execution_count": null,
   "metadata": {},
   "outputs": [],
   "source": [
    "for stack in stack_paths:\n",
    "    seg_path = SEG_PATH + f\"{stack}_contour.tif\"\n",
    "    \n",
    "    assert os.path.exists(seg_path)"
   ]
  },
  {
   "cell_type": "markdown",
   "metadata": {},
   "source": [
    "## Model"
   ]
  },
  {
   "cell_type": "code",
   "execution_count": null,
   "metadata": {},
   "outputs": [],
   "source": [
    "EXP_FOLDER = LOG_PATH + \"2021-07-12/1/\"  # yolov5s\n",
    "EXP_FOLDER = LOG_PATH + \"2021-07-12/0/\"  # d1"
   ]
  },
  {
   "cell_type": "code",
   "execution_count": null,
   "metadata": {},
   "outputs": [],
   "source": [
    "config = Config(json.load(open(EXP_FOLDER + \"config.json\", 'r')))"
   ]
  },
  {
   "cell_type": "code",
   "execution_count": null,
   "metadata": {},
   "outputs": [],
   "source": [
    "FOLD_IDX = 0"
   ]
  },
  {
   "cell_type": "code",
   "execution_count": null,
   "metadata": {},
   "outputs": [],
   "source": [
    "weights = sorted([EXP_FOLDER + p for p in os.listdir(EXP_FOLDER) if 'pt' in p])"
   ]
  },
  {
   "cell_type": "code",
   "execution_count": null,
   "metadata": {
    "scrolled": true
   },
   "outputs": [],
   "source": [
    "model = define_model(\n",
    "    config\n",
    ").to(config.device)\n",
    "model.zero_grad()\n",
    "\n",
    "model.eval()\n",
    "\n",
    "model = load_model_weights(model, weights[FOLD_IDX])"
   ]
  },
  {
   "cell_type": "markdown",
   "metadata": {},
   "source": [
    "## Data"
   ]
  },
  {
   "cell_type": "code",
   "execution_count": null,
   "metadata": {
    "scrolled": true
   },
   "outputs": [],
   "source": [
    "%matplotlib inline\n",
    "\n",
    "transforms = OCT_preprocess(augment=False, visualize=False)\n",
    "volumes_dict = {}\n",
    "\n",
    "for path in tqdm(stack_paths):\n",
    "    print(f' -> Stack {path}')\n",
    "\n",
    "    stack = load_stack(stack_paths[path])\n",
    "    if len(stack.shape) == 2:\n",
    "        continue\n",
    "\n",
    "    dataset = InferenceDataset(\n",
    "        stack_paths[path],\n",
    "        SEG_PATH + f\"{path}_contour.tif\",\n",
    "        step=5,\n",
    "        transforms=transforms\n",
    "    )\n",
    "    \n",
    "    meter = predict(model, dataset, config)\n",
    "    \n",
    "    meter.pred_fusion = [expand_boxes(box, 1.2) for box in meter.pred_fusion]\n",
    "\n",
    "    meter.plot(n_samples=-1, fused=True)\n",
    "    \n",
    "    boxes = meter.pred_fusion[0]\n",
    "    volumes = yolo_to_volumes(boxes[\"yolo\"], stack.shape[0], stack.shape[-1])\n",
    "    volumes_dict[path] = volumes\n",
    "    \n",
    "#     break\n",
    "\n",
    "json.dump(volumes_dict, open(f\"../output/volumes_{NAME}.json\", \"w\"))"
   ]
  }
 ],
 "metadata": {
  "kernelspec": {
   "display_name": "venv",
   "language": "python",
   "name": "venv"
  },
  "language_info": {
   "codemirror_mode": {
    "name": "ipython",
    "version": 3
   },
   "file_extension": ".py",
   "mimetype": "text/x-python",
   "name": "python",
   "nbconvert_exporter": "python",
   "pygments_lexer": "ipython3",
   "version": "3.8.5"
  }
 },
 "nbformat": 4,
 "nbformat_minor": 4
}
