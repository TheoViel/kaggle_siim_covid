{
 "cells": [
  {
   "cell_type": "markdown",
   "metadata": {},
   "source": [
    "#### Code to validate models"
   ]
  },
  {
   "cell_type": "code",
   "execution_count": 130,
   "metadata": {},
   "outputs": [
    {
     "name": "stdout",
     "output_type": "stream",
     "text": [
      "The autoreload extension is already loaded. To reload it, use:\n",
      "  %reload_ext autoreload\n"
     ]
    }
   ],
   "source": [
    "%load_ext autoreload\n",
    "%autoreload 2"
   ]
  },
  {
   "cell_type": "code",
   "execution_count": 131,
   "metadata": {},
   "outputs": [
    {
     "name": "stdout",
     "output_type": "stream",
     "text": [
      "/home/theo/kaggle/siim_covid/src\n"
     ]
    }
   ],
   "source": [
    "cd ../src"
   ]
  },
  {
   "cell_type": "markdown",
   "metadata": {},
   "source": [
    "## Imports"
   ]
  },
  {
   "cell_type": "code",
   "execution_count": 132,
   "metadata": {},
   "outputs": [],
   "source": [
    "import os\n",
    "import cv2\n",
    "import json\n",
    "import torch\n",
    "import numpy as np\n",
    "import pandas as pd\n",
    "import seaborn as sns\n",
    "import matplotlib.pyplot as plt\n",
    "\n",
    "from sklearn.metrics import *\n",
    "from collections import Counter\n",
    "from tqdm.notebook import tqdm"
   ]
  },
  {
   "cell_type": "code",
   "execution_count": 133,
   "metadata": {},
   "outputs": [],
   "source": [
    "from params import *"
   ]
  },
  {
   "cell_type": "code",
   "execution_count": 134,
   "metadata": {},
   "outputs": [],
   "source": [
    "from data.preparation import prepare_dataframe, handle_duplicates\n",
    "from data.dataset import CovidDetDataset, CovidClsDataset\n",
    "from data.transforms import get_transfos_det, get_transfos_cls\n",
    "\n",
    "from model_zoo.models import get_model\n",
    "\n",
    "from utils.plot import plot_sample\n",
    "\n",
    "from utils.logger import Config\n",
    "\n",
    "from utils.metrics import per_class_average_precision_score, study_level_map"
   ]
  },
  {
   "cell_type": "markdown",
   "metadata": {},
   "source": [
    "## Data"
   ]
  },
  {
   "cell_type": "markdown",
   "metadata": {},
   "source": [
    "### Load"
   ]
  },
  {
   "cell_type": "code",
   "execution_count": 135,
   "metadata": {},
   "outputs": [],
   "source": [
    "EXP_FOLDERS = [\n",
    "    LOG_PATH + \"2021-07-25/10/\",\n",
    "    LOG_PATH + \"2021-07-26/1/\",\n",
    "    LOG_PATH + \"2021-07-26/2/\",\n",
    "]\n",
    "\n",
    "EXP_FOLDER = EXP_FOLDERS[-1]"
   ]
  },
  {
   "cell_type": "code",
   "execution_count": 136,
   "metadata": {},
   "outputs": [],
   "source": [
    "config = Config(json.load(open(EXP_FOLDER + \"config.json\", 'r')))"
   ]
  },
  {
   "cell_type": "code",
   "execution_count": 137,
   "metadata": {},
   "outputs": [],
   "source": [
    "# metrics = pd.read_csv(EXP_FOLDER + \"metrics.csv\")\n",
    "pred_oof_img = np.mean([np.load(f + \"pred_oof_img.npy\") for f in EXP_FOLDERS], 0)\n",
    "pred_oof_study = np.mean([np.load(f + \"pred_oof_study.npy\") for f in EXP_FOLDERS], 0)\n",
    "\n",
    "df = pd.read_csv(EXP_FOLDER + \"data.csv\")"
   ]
  },
  {
   "cell_type": "code",
   "execution_count": 138,
   "metadata": {},
   "outputs": [],
   "source": [
    "FOLD_IDX = 0"
   ]
  },
  {
   "cell_type": "code",
   "execution_count": 139,
   "metadata": {},
   "outputs": [],
   "source": [
    "weights = sorted([EXP_FOLDER + p for p in os.listdir(EXP_FOLDER) if 'pt' in p])"
   ]
  },
  {
   "cell_type": "code",
   "execution_count": 140,
   "metadata": {},
   "outputs": [],
   "source": [
    "# model = get_model(\n",
    "#     config.selected_model,\n",
    "#     reduce_stride=config.reduce_stride,\n",
    "#     num_classes=config.num_classes,\n",
    "# ).to(config.device)\n",
    "# model.zero_grad()\n",
    "\n",
    "# model.eval()\n",
    "\n",
    "# model = load_model_weights(model, weights[FOLD_IDX])"
   ]
  },
  {
   "cell_type": "code",
   "execution_count": 141,
   "metadata": {},
   "outputs": [],
   "source": [
    "pred_cols = [c + \"_pred\" for c in CLASSES]\n",
    "df[pred_cols] = pred_oof_study\n",
    "df['pred_img'] = pred_oof_img\n",
    "# df = df[df['negative_pred'] > 0]"
   ]
  },
  {
   "cell_type": "code",
   "execution_count": 142,
   "metadata": {},
   "outputs": [],
   "source": [
    "groups = df[['study_id', 'pred_img']].groupby('study_id').mean().rename(\n",
    "    columns={'pred_img': 'pred_img_merged'}\n",
    ").reset_index()\n",
    "df = df.merge(groups, on=\"study_id\", how=\"left\")"
   ]
  },
  {
   "cell_type": "code",
   "execution_count": 143,
   "metadata": {},
   "outputs": [
    {
     "name": "stdout",
     "output_type": "stream",
     "text": [
      "Image AUC : 0.874\n",
      "Image Acc : 0.816\n"
     ]
    }
   ],
   "source": [
    "auc = roc_auc_score(df['img_target'], pred_oof_img)\n",
    "print(f'Image AUC : {auc :.3f}')\n",
    "acc = accuracy_score(df['img_target'], pred_oof_img > 0.5)\n",
    "print(f'Image Acc : {acc :.3f}')"
   ]
  },
  {
   "cell_type": "code",
   "execution_count": 144,
   "metadata": {},
   "outputs": [
    {
     "name": "stdout",
     "output_type": "stream",
     "text": [
      "Image AUC : 0.872\n",
      "Image Acc : 0.811\n"
     ]
    }
   ],
   "source": [
    "auc = roc_auc_score(df['img_target'], df['pred_img_merged'])\n",
    "print(f'Image AUC : {auc :.3f}')\n",
    "acc = accuracy_score(df['img_target'], df['pred_img_merged'] > 0.5)\n",
    "print(f'Image Acc : {acc :.3f}')"
   ]
  },
  {
   "cell_type": "code",
   "execution_count": 93,
   "metadata": {},
   "outputs": [
    {
     "name": "stdout",
     "output_type": "stream",
     "text": [
      "Study mAP : 0.376\n"
     ]
    }
   ],
   "source": [
    "study_map = study_level_map(df[pred_cols].values, df[CLASSES].values, df['study_id'].values)\n",
    "print(f'Study mAP : {study_map :.3f}')"
   ]
  },
  {
   "cell_type": "code",
   "execution_count": 387,
   "metadata": {},
   "outputs": [],
   "source": [
    "pred_cols = [c + \"_pred\" for c in CLASSES]\n",
    "df[pred_cols] = pred_oof_study\n",
    "df['pred_img'] = pred_oof_img\n",
    "# df = df[df['negative_pred'] > 0]"
   ]
  },
  {
   "cell_type": "code",
   "execution_count": 388,
   "metadata": {},
   "outputs": [
    {
     "data": {
      "text/plain": [
       "array([0.78961698, 0.84612411, 0.29082112, 0.32929603])"
      ]
     },
     "execution_count": 388,
     "metadata": {},
     "output_type": "execute_result"
    }
   ],
   "source": [
    "df_study = df[['study_id'] + pred_cols + CLASSES + ['pred_img']].groupby('study_id').agg(np.mean)\n",
    "\n",
    "# df_study['negative_pred'] *= 1 - df_study['pred_img'] \n",
    "# df_study.loc[df_study['pred_img'] > 0.9, 'negative_pred'] *= 0.9\n",
    "# df_study.loc[df_study['pred_img'] < 0.1, 'negative_pred'] *= 2\n",
    "# df_study.loc[df_study['pred_img'] > 0.9, 'typical_pred'] *= 2\n",
    "# df_study.loc[df_study['pred_img'] > 0.9, 'indeterminate_pred'] *= 2\n",
    "# df_study.loc[df_study['pred_img'] > 0.9, 'atypical_pred'] *= 2\n",
    "\n",
    "per_class_average_precision_score(\n",
    "    df_study[pred_cols].values,\n",
    "    df_study[CLASSES].values, \n",
    "    num_classes=NUM_CLASSES, \n",
    "    average=False\n",
    ")"
   ]
  },
  {
   "cell_type": "code",
   "execution_count": 300,
   "metadata": {},
   "outputs": [
    {
     "data": {
      "text/plain": [
       "['negative', 'typical', 'indeterminate', 'atypical']"
      ]
     },
     "execution_count": 300,
     "metadata": {},
     "output_type": "execute_result"
    }
   ],
   "source": [
    "CLASSES"
   ]
  },
  {
   "cell_type": "code",
   "execution_count": 398,
   "metadata": {},
   "outputs": [
    {
     "data": {
      "text/plain": [
       "(array([0.7886, 0.8461, 0.2908, 0.3293]), 0.376)"
      ]
     },
     "execution_count": 398,
     "metadata": {},
     "output_type": "execute_result"
    }
   ],
   "source": [
    "df_study = df[['study_id'] + pred_cols + CLASSES + ['img_target', 'pred_img']].groupby('study_id').agg(np.mean).copy()\n",
    "\n",
    "df_study['negative_pred'] *= 1 - df_study['pred_img'] \n",
    "# df_study['typical_pred'] *= df_study['pred_img'] \n",
    "# df_study['indeterminate_pred'] *= df_study['pred_img'] \n",
    "# df_study['atypical_pred'] *= df_study['pred_img'] \n",
    "\n",
    "# df_study.loc[df_study['pred_img'] > 0.9, 'negative_pred'] *= 0.9\n",
    "# df_study.loc[df_study['pred_img'] < 0.1, 'negative_pred'] *= 2\n",
    "# df_study.loc[df_study['pred_img'] > 0.9, 'typical_pred'] *= 1.1\n",
    "# df_study.loc[df_study['pred_img'] > 0.9, 'indeterminate_pred'] *= 1.5\n",
    "# df_study.loc[df_study['pred_img'] > 0.9, 'atypical_pred'] *= 1.1\n",
    "# df_study.loc[df_study['pred_img'] < 0.2, 'typical_pred'] *= 0.9\n",
    "# df_study.loc[df_study['pred_img'] < 0.2, 'indeterminate_pred'] *= 0.9\n",
    "# df_study.loc[df_study['pred_img'] < 0.2, 'atypical_pred'] *= 0.9\n",
    "\n",
    "accs = per_class_average_precision_score(\n",
    "    df_study[pred_cols].values,\n",
    "    df_study[CLASSES].values, \n",
    "    num_classes=NUM_CLASSES, \n",
    "    average=False\n",
    ")\n",
    "np.round(accs, 4), np.round(np.mean(accs) * 2/3, 3)"
   ]
  },
  {
   "cell_type": "code",
   "execution_count": 200,
   "metadata": {},
   "outputs": [
    {
     "data": {
      "text/html": [
       "<div>\n",
       "<style scoped>\n",
       "    .dataframe tbody tr th:only-of-type {\n",
       "        vertical-align: middle;\n",
       "    }\n",
       "\n",
       "    .dataframe tbody tr th {\n",
       "        vertical-align: top;\n",
       "    }\n",
       "\n",
       "    .dataframe thead th {\n",
       "        text-align: right;\n",
       "    }\n",
       "</style>\n",
       "<table border=\"1\" class=\"dataframe\">\n",
       "  <thead>\n",
       "    <tr style=\"text-align: right;\">\n",
       "      <th></th>\n",
       "      <th>negative_pred</th>\n",
       "      <th>typical_pred</th>\n",
       "      <th>indeterminate_pred</th>\n",
       "      <th>atypical_pred</th>\n",
       "      <th>negative</th>\n",
       "      <th>typical</th>\n",
       "      <th>indeterminate</th>\n",
       "      <th>atypical</th>\n",
       "      <th>img_target</th>\n",
       "      <th>pred_img</th>\n",
       "    </tr>\n",
       "    <tr>\n",
       "      <th>study_id</th>\n",
       "      <th></th>\n",
       "      <th></th>\n",
       "      <th></th>\n",
       "      <th></th>\n",
       "      <th></th>\n",
       "      <th></th>\n",
       "      <th></th>\n",
       "      <th></th>\n",
       "      <th></th>\n",
       "      <th></th>\n",
       "    </tr>\n",
       "  </thead>\n",
       "  <tbody>\n",
       "    <tr>\n",
       "      <th>00086460a852</th>\n",
       "      <td>0.113821</td>\n",
       "      <td>0.357324</td>\n",
       "      <td>0.241017</td>\n",
       "      <td>0.287838</td>\n",
       "      <td>0.0</td>\n",
       "      <td>1.0</td>\n",
       "      <td>0.0</td>\n",
       "      <td>0.0</td>\n",
       "      <td>1.0</td>\n",
       "      <td>0.742756</td>\n",
       "    </tr>\n",
       "    <tr>\n",
       "      <th>000c9c05fd14</th>\n",
       "      <td>0.001350</td>\n",
       "      <td>0.000055</td>\n",
       "      <td>0.001169</td>\n",
       "      <td>0.997426</td>\n",
       "      <td>0.0</td>\n",
       "      <td>0.0</td>\n",
       "      <td>0.0</td>\n",
       "      <td>1.0</td>\n",
       "      <td>0.0</td>\n",
       "      <td>0.099493</td>\n",
       "    </tr>\n",
       "    <tr>\n",
       "      <th>00292f8c37bd</th>\n",
       "      <td>0.932226</td>\n",
       "      <td>0.019807</td>\n",
       "      <td>0.043060</td>\n",
       "      <td>0.004907</td>\n",
       "      <td>1.0</td>\n",
       "      <td>0.0</td>\n",
       "      <td>0.0</td>\n",
       "      <td>0.0</td>\n",
       "      <td>0.0</td>\n",
       "      <td>0.091525</td>\n",
       "    </tr>\n",
       "    <tr>\n",
       "      <th>005057b3f880</th>\n",
       "      <td>0.938680</td>\n",
       "      <td>0.006872</td>\n",
       "      <td>0.041675</td>\n",
       "      <td>0.012773</td>\n",
       "      <td>1.0</td>\n",
       "      <td>0.0</td>\n",
       "      <td>0.0</td>\n",
       "      <td>0.0</td>\n",
       "      <td>0.0</td>\n",
       "      <td>0.045715</td>\n",
       "    </tr>\n",
       "    <tr>\n",
       "      <th>0051d9b12e72</th>\n",
       "      <td>0.085531</td>\n",
       "      <td>0.538621</td>\n",
       "      <td>0.306945</td>\n",
       "      <td>0.068903</td>\n",
       "      <td>0.0</td>\n",
       "      <td>0.0</td>\n",
       "      <td>0.0</td>\n",
       "      <td>1.0</td>\n",
       "      <td>1.0</td>\n",
       "      <td>0.904129</td>\n",
       "    </tr>\n",
       "  </tbody>\n",
       "</table>\n",
       "</div>"
      ],
      "text/plain": [
       "              negative_pred  typical_pred  indeterminate_pred  atypical_pred  \\\n",
       "study_id                                                                       \n",
       "00086460a852       0.113821      0.357324            0.241017       0.287838   \n",
       "000c9c05fd14       0.001350      0.000055            0.001169       0.997426   \n",
       "00292f8c37bd       0.932226      0.019807            0.043060       0.004907   \n",
       "005057b3f880       0.938680      0.006872            0.041675       0.012773   \n",
       "0051d9b12e72       0.085531      0.538621            0.306945       0.068903   \n",
       "\n",
       "              negative  typical  indeterminate  atypical  img_target  pred_img  \n",
       "study_id                                                                        \n",
       "00086460a852       0.0      1.0            0.0       0.0         1.0  0.742756  \n",
       "000c9c05fd14       0.0      0.0            0.0       1.0         0.0  0.099493  \n",
       "00292f8c37bd       1.0      0.0            0.0       0.0         0.0  0.091525  \n",
       "005057b3f880       1.0      0.0            0.0       0.0         0.0  0.045715  \n",
       "0051d9b12e72       0.0      0.0            0.0       1.0         1.0  0.904129  "
      ]
     },
     "execution_count": 200,
     "metadata": {},
     "output_type": "execute_result"
    }
   ],
   "source": [
    "df_study.head()"
   ]
  },
  {
   "cell_type": "code",
   "execution_count": 179,
   "metadata": {},
   "outputs": [
    {
     "data": {
      "text/plain": [
       "array([0.77049216, 0.83492985, 0.28255951, 0.31372431])"
      ]
     },
     "execution_count": 179,
     "metadata": {},
     "output_type": "execute_result"
    }
   ],
   "source": [
    "df_study = df[['study_id'] + pred_cols + CLASSES + ['pred_img']].groupby('study_id').agg(np.mean)\n",
    "\n",
    "# df_study['negative_pred'] *= 1 - df_study['pred_img'] \n",
    "# df_study.loc[df_study['pred_img'] > 0.9, 'negative_pred'] *= 0.9\n",
    "# df_study.loc[df_study['pred_img'] < 0.1, 'negative_pred'] *= 2\n",
    "# df_study.loc[df_study['pred_img'] < 0.1, 'typical_pred'] *= 2\n",
    "# df_study.loc[df_study['pred_img'] < 0.1, 'indeterminate_pred'] *= 2\n",
    "# df_study.loc[df_study['pred_img'] < 0.1, 'atypical_pred'] *= 2\n",
    "\n",
    "per_class_average_precision_score(\n",
    "    df_study[pred_cols].values,\n",
    "    df_study[CLASSES].values, \n",
    "    num_classes=NUM_CLASSES, \n",
    "    average=False\n",
    ")"
   ]
  },
  {
   "cell_type": "code",
   "execution_count": 204,
   "metadata": {
    "scrolled": true
   },
   "outputs": [
    {
     "name": "stdout",
     "output_type": "stream",
     "text": [
      "Study mAP : 0.367\n"
     ]
    }
   ],
   "source": [
    "study_map = study_level_map(df[pred_cols].values, df[CLASSES].values, df['study_id'].values)\n",
    "print(f'Study mAP : {study_map :.3f}')"
   ]
  },
  {
   "cell_type": "code",
   "execution_count": 205,
   "metadata": {
    "scrolled": true
   },
   "outputs": [
    {
     "name": "stdout",
     "output_type": "stream",
     "text": [
      "Study mAP : 0.366\n"
     ]
    }
   ],
   "source": [
    "study_map = study_level_map(df[pred_cols].values, df[CLASSES].values, df['study_id'].values, agg=np.max)\n",
    "print(f'Study mAP : {study_map :.3f}')"
   ]
  },
  {
   "cell_type": "code",
   "execution_count": 206,
   "metadata": {},
   "outputs": [
    {
     "data": {
      "text/plain": [
       "array([0.98434671, 0.84566455, 0.34956159, 0.23040858])"
      ]
     },
     "execution_count": 206,
     "metadata": {},
     "output_type": "execute_result"
    }
   ],
   "source": [
    "per_class_average_precision_score(pred_oof_study, df[CLASSES].values, 4, average=False)"
   ]
  },
  {
   "cell_type": "code",
   "execution_count": 399,
   "metadata": {},
   "outputs": [],
   "source": [
    "pred_oof_study[:, 0] *= (1 - df['img_target'])\n",
    "pred_oof_study[:, 1] *= df['img_target']\n",
    "pred_oof_study[:, 2] *= df['img_target']\n",
    "pred_oof_study[:, 3] *= df['img_target']"
   ]
  },
  {
   "cell_type": "code",
   "execution_count": 400,
   "metadata": {},
   "outputs": [
    {
     "data": {
      "text/plain": [
       "array([0.98557206, 0.85187214, 0.35610549, 0.23691164])"
      ]
     },
     "execution_count": 400,
     "metadata": {},
     "output_type": "execute_result"
    }
   ],
   "source": [
    "per_class_average_precision_score(pred_oof_study, df[CLASSES].values, 4, average=False)"
   ]
  },
  {
   "cell_type": "code",
   "execution_count": 401,
   "metadata": {},
   "outputs": [
    {
     "name": "stdout",
     "output_type": "stream",
     "text": [
      "Study mAP : 0.411\n"
     ]
    }
   ],
   "source": [
    "study_map = study_level_map(pred_oof_study, df[CLASSES].values, df['study_id'].values)\n",
    "print(f'Study mAP : {study_map :.3f}')"
   ]
  },
  {
   "cell_type": "code",
   "execution_count": 402,
   "metadata": {},
   "outputs": [
    {
     "name": "stdout",
     "output_type": "stream",
     "text": [
      "Study mAP : 0.411\n"
     ]
    }
   ],
   "source": [
    "study_map = study_level_map(pred_oof_study, df[CLASSES].values, df['study_id'].values, agg=np.max)\n",
    "print(f'Study mAP : {study_map :.3f}')"
   ]
  },
  {
   "cell_type": "markdown",
   "metadata": {},
   "source": [
    "## Results"
   ]
  },
  {
   "cell_type": "code",
   "execution_count": null,
   "metadata": {},
   "outputs": [],
   "source": [
    "pred_oof_study = pd.read_csv('../output/OOF_study_only_EBV2M_768.csv')\n",
    "pred_oof_study['id'] = pred_oof_study['id'].apply(lambda x: x.split('_')[0])\n",
    "\n",
    "df_study = df[['study_id'] + pred_cols + CLASSES].groupby('study_id').agg(np.mean)\n",
    "df_study = df_study.merge(pred_oof_study, how=\"left\", left_on=\"study_id\", right_on=\"id\").dropna()"
   ]
  },
  {
   "cell_type": "code",
   "execution_count": null,
   "metadata": {},
   "outputs": [],
   "source": [
    "def proc(x):\n",
    "    x = x.split('0 0 1 1')[:4]\n",
    "    x = [float(y.strip().split(' ')[1]) for y in x]\n",
    "    return x\n",
    "\n",
    "pred_oof_study = np.array(df_study['PredictionString'].apply(proc).values.tolist())\n",
    "# pred_oof_study = np.random.random(pred_oof_study.shape)\n",
    "df_study[pred_cols] = pred_oof_study"
   ]
  },
  {
   "cell_type": "code",
   "execution_count": null,
   "metadata": {},
   "outputs": [],
   "source": [
    "per_class_average_precision_score(\n",
    "    df_study[pred_cols].values,\n",
    "    df_study[CLASSES].values, \n",
    "num_classes=NUM_CLASSES) * 2/3"
   ]
  }
 ],
 "metadata": {
  "kernelspec": {
   "display_name": "venv",
   "language": "python",
   "name": "venv"
  },
  "language_info": {
   "codemirror_mode": {
    "name": "ipython",
    "version": 3
   },
   "file_extension": ".py",
   "mimetype": "text/x-python",
   "name": "python",
   "nbconvert_exporter": "python",
   "pygments_lexer": "ipython3",
   "version": "3.8.7"
  }
 },
 "nbformat": 4,
 "nbformat_minor": 4
}
