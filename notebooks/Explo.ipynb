{
 "cells": [
  {
   "cell_type": "markdown",
   "metadata": {},
   "source": [
    "#### Code to train models"
   ]
  },
  {
   "cell_type": "code",
   "execution_count": 1,
   "metadata": {},
   "outputs": [],
   "source": [
    "%load_ext autoreload\n",
    "%autoreload 2"
   ]
  },
  {
   "cell_type": "code",
   "execution_count": 2,
   "metadata": {},
   "outputs": [
    {
     "name": "stdout",
     "output_type": "stream",
     "text": [
      "/home/theo/Documents/kaggle_siim_covid/src\n"
     ]
    }
   ],
   "source": [
    "cd ../src"
   ]
  },
  {
   "cell_type": "markdown",
   "metadata": {},
   "source": [
    "## Imports"
   ]
  },
  {
   "cell_type": "code",
   "execution_count": 3,
   "metadata": {},
   "outputs": [],
   "source": [
    "import os\n",
    "import cv2\n",
    "import glob\n",
    "import json\n",
    "import torch\n",
    "import numpy as np\n",
    "import pandas as pd\n",
    "import seaborn as sns\n",
    "import matplotlib.pyplot as plt\n",
    "\n",
    "from collections import Counter\n",
    "from tqdm.notebook import tqdm\n",
    "from matplotlib.patches import Rectangle"
   ]
  },
  {
   "cell_type": "code",
   "execution_count": 4,
   "metadata": {},
   "outputs": [],
   "source": [
    "from params import *"
   ]
  },
  {
   "cell_type": "code",
   "execution_count": 5,
   "metadata": {},
   "outputs": [],
   "source": [
    "from data.preparation import prepare_dataframe, handle_duplicates, add_additional_boxes\n",
    "from data.dataset import CovidDetDataset, CovidClsDataset\n",
    "from data.transforms import get_transfos_det, get_transfos_cls\n",
    "\n",
    "from model_zoo.models import get_model\n",
    "from model_zoo.encoders import get_encoder\n",
    "\n",
    "from utils.plot import plot_sample\n",
    "from utils.boxes import treat_boxes\n",
    "from utils.logger import prepare_log_folder, save_config, create_logger, update_overall_logs\n",
    "\n",
    "from training.main import k_fold"
   ]
  },
  {
   "cell_type": "markdown",
   "metadata": {},
   "source": [
    "## Load"
   ]
  },
  {
   "cell_type": "code",
   "execution_count": 6,
   "metadata": {},
   "outputs": [],
   "source": [
    "df = prepare_dataframe().copy()"
   ]
  },
  {
   "cell_type": "code",
   "execution_count": 7,
   "metadata": {},
   "outputs": [],
   "source": [
    "clusts = np.load(\"../output/clusts.npy\", allow_pickle=True)\n",
    "found = np.load(\"../output/found.npy\")\n",
    "transpositions = np.load(\"../output/transpositions.npy\", allow_pickle=True)\n",
    "\n",
    "df = handle_duplicates(df, clusts, transpositions, plot=False)"
   ]
  },
  {
   "cell_type": "code",
   "execution_count": 8,
   "metadata": {},
   "outputs": [],
   "source": [
    "df = add_additional_boxes(df)"
   ]
  },
  {
   "cell_type": "markdown",
   "metadata": {},
   "source": [
    "# Look for leak"
   ]
  },
  {
   "cell_type": "code",
   "execution_count": 24,
   "metadata": {
    "scrolled": false
   },
   "outputs": [
    {
     "data": {
      "image/png": "[encoded data removed]",
      "text/plain": [
       "<Figure size 1080x720 with 1 Axes>"
      ]
     },
     "metadata": {
      "needs_background": "light"
     },
     "output_type": "display_data"
    }
   ],
   "source": [
    "# for c in CLASSES:\n",
    "plt.figure(figsize=(15, 10))\n",
    "sns.countplot(x=df['photometric_interpreation'], hue=df[\"study_label\"])\n",
    "# plt.yscale('log')\n",
    "plt.show()"
   ]
  },
  {
   "cell_type": "markdown",
   "metadata": {},
   "source": [
    "## Missing boxes"
   ]
  },
  {
   "cell_type": "code",
   "execution_count": null,
   "metadata": {},
   "outputs": [],
   "source": [
    "groups = df[['study_id', 'img_target']].groupby('study_id').mean()\n",
    "groups = groups[groups['img_target'] > 0]\n",
    "groups = groups[groups['img_target'] < 1]\n",
    "# groups = groups[groups['img_target'] != 0.5]"
   ]
  },
  {
   "cell_type": "code",
   "execution_count": null,
   "metadata": {},
   "outputs": [],
   "source": [
    "df_dup = df[df['study_id'].isin(groups.index)].reset_index(drop=True).sort_values('study_id').copy()"
   ]
  },
  {
   "cell_type": "code",
   "execution_count": null,
   "metadata": {},
   "outputs": [],
   "source": [
    "from data.extraction import read_xray\n",
    "\n",
    "for study in tqdm(df_dup['study_id'].unique()):\n",
    "    print('-' * 60)\n",
    "    print(f'Study {study}')\n",
    "    \n",
    "    df_study = df_dup[df_dup['study_id'] == study].copy().reset_index(drop=True)\n",
    "\n",
    "    for i in range(len(df_study)):\n",
    "        study = df_study['study_id'][i]\n",
    "        image = df_study['image_id'][i].split('_')[0]\n",
    "\n",
    "        study_path = os.path.join(DCM_PATH, \"train\", study)\n",
    "        series = os.listdir(study_path)\n",
    "\n",
    "        found = False\n",
    "        for s in series:\n",
    "            img_path = os.path.join(study_path, s, image + \".dcm\")\n",
    "            if os.path.exists(img_path):\n",
    "                found = True\n",
    "                break\n",
    "\n",
    "        if not found:\n",
    "            print(f'Image {i} not found')\n",
    "            continue\n",
    "\n",
    "        img, meta = read_xray(img_path)\n",
    "        img = (img - img.min()) /  (img.max() - img.min())\n",
    "        img = (img * 255).astype(np.uint8)\n",
    "        boxes = np.array(df_study['boxes'][i]).astype(int)\n",
    "\n",
    "        if len(boxes):\n",
    "            print(f'Study {study}')\n",
    "            print(f'Image {image}')\n",
    "            print(f'Date {meta[(0x08, 0x20)].value}')\n",
    "            print(boxes)\n",
    "        \n",
    "            plt.figure(figsize=(9, 9))\n",
    "            plot_sample(img[:, :, None], boxes, bbox_format=\"coco\", axis=True)\n",
    "            plt.show()\n",
    "        else:\n",
    "            save_name = f\"{study}_{image}.png\"\n",
    "            cv2.imwrite(\"../output/missing_boxes/\" + save_name, img)"
   ]
  },
  {
   "cell_type": "markdown",
   "metadata": {},
   "source": [
    "### Dataset"
   ]
  },
  {
   "cell_type": "code",
   "execution_count": null,
   "metadata": {},
   "outputs": [],
   "source": [
    "plt.figure(figsize=(15, 5))\n",
    "sns.countplot(x=\"label\", hue=\"study_label\", data=df)\n",
    "plt.show()\n",
    "\n",
    "plt.figure(figsize=(15, 5))\n",
    "sns.countplot(x=\"study_label\", hue=\"label\", data=df)\n",
    "plt.show()"
   ]
  },
  {
   "cell_type": "code",
   "execution_count": null,
   "metadata": {},
   "outputs": [],
   "source": [
    "df_ = df[df['boxes'].apply(lambda x: len(x) > 0)].copy()\n",
    "\n",
    "df_['w'] = df_['boxes'].apply(lambda x: np.array(x)[:, 2].mean() if len(x) else 0)\n",
    "df_['h'] = df_['boxes'].apply(lambda x: np.array(x)[:, 2].mean() if len(x) else 0)"
   ]
  },
  {
   "cell_type": "code",
   "execution_count": null,
   "metadata": {},
   "outputs": [],
   "source": [
    "plt.figure(figsize=(15, 5))\n",
    "sns.boxplot(y=\"w\", x=\"study_label\", data=df_)\n",
    "plt.show()\n",
    "\n",
    "plt.figure(figsize=(15, 5))\n",
    "sns.boxplot(y=\"h\", x=\"study_label\", data=df_)\n",
    "plt.show()"
   ]
  },
  {
   "cell_type": "code",
   "execution_count": null,
   "metadata": {},
   "outputs": [],
   "source": [
    "# transforms = get_transfos_det(augment=False, bbox_format=\"yolo\")\n",
    "# dataset = CovidDetDataset(df, DATA_PATH + f\"train_{SIZE}/\", bbox_format=\"yolo\", transforms=transforms)"
   ]
  },
  {
   "cell_type": "code",
   "execution_count": null,
   "metadata": {
    "scrolled": true
   },
   "outputs": [],
   "source": [
    "df_l = df[df[\"study_label\"] == \"typical\"].reset_index(drop=True)\n",
    "dataset = CovidDetDataset(df_l, DATA_PATH + f\"train_{SIZE}/\", bbox_format=\"yolo\")"
   ]
  },
  {
   "cell_type": "code",
   "execution_count": null,
   "metadata": {
    "scrolled": false
   },
   "outputs": [],
   "source": [
    "for i in np.random.choice(len(dataset), 10):\n",
    "# for i in range(len(dataset)):\n",
    "    img, mask, y, y_img, boxes = dataset[i]\n",
    "    \n",
    "    if isinstance(img, torch.Tensor):\n",
    "        img = img.cpu().numpy().transpose(1, 2, 0)\n",
    "        mask = mask.cpu().numpy()[:, :, None]\n",
    "\n",
    "#     if len(boxes):\n",
    "    plt.figure(figsize=(9, 9))\n",
    "    plot_sample(img, boxes, bbox_format=\"yolo\")\n",
    "#         plot_sample(mask, boxes, bbox_format=\"yolo\")\n",
    "    plt.title(\n",
    "        f'{df_l[\"save_name\"][i][:-4]}  -  Study target : {CLASSES[int(y)]} - '\n",
    "        f'Img target : {CLASSES_IMG[int(y_img)]}'\n",
    "    )\n",
    "    plt.show()\n"
   ]
  },
  {
   "cell_type": "markdown",
   "metadata": {},
   "source": [
    "## Model"
   ]
  },
  {
   "cell_type": "code",
   "execution_count": null,
   "metadata": {},
   "outputs": [],
   "source": [
    "# model = get_encoder('tf_efficientnet_b4_ns')"
   ]
  },
  {
   "cell_type": "code",
   "execution_count": null,
   "metadata": {},
   "outputs": [],
   "source": [
    "model = get_model('tf_efficientnetv2_m_in21ft1k', reduce_stride=False, num_classes=4)"
   ]
  },
  {
   "cell_type": "code",
   "execution_count": null,
   "metadata": {},
   "outputs": [],
   "source": [
    "transforms = get_transfos_cls(augment=False)\n",
    "dataset = CovidClsDataset(df, DATA_PATH + f\"train_{SIZE}/\", transforms=transforms)\n",
    "\n",
    "x, m, y, y_img = dataset[0]\n",
    "\n",
    "plt.figure(figsize=(9, 9))\n",
    "plt.subplot(1, 2, 1)\n",
    "plt.imshow(x.cpu().numpy().transpose(1, 2, 0))\n",
    "plt.axis(False)\n",
    "plt.subplot(1, 2, 2)\n",
    "plt.imshow(m.cpu().numpy()[:, :, None])\n",
    "plt.axis(False)\n",
    "\n",
    "x = x.unsqueeze(0).float()\n",
    "m = m.unsqueeze(0).float()\n",
    "y = y.unsqueeze(0)\n",
    "y_img = y_img.unsqueeze(0)"
   ]
  },
  {
   "cell_type": "code",
   "execution_count": null,
   "metadata": {},
   "outputs": [],
   "source": [
    "pred = model(x)"
   ]
  },
  {
   "cell_type": "code",
   "execution_count": null,
   "metadata": {},
   "outputs": [],
   "source": [
    "for p in pred:\n",
    "    try:\n",
    "        print(p.size())\n",
    "    except:\n",
    "        for p_ in p:\n",
    "            print(' ', p_.size())"
   ]
  },
  {
   "cell_type": "code",
   "execution_count": null,
   "metadata": {},
   "outputs": [],
   "source": [
    "from training.losses import CovidLoss\n",
    "loss = CovidLoss()"
   ]
  },
  {
   "cell_type": "code",
   "execution_count": null,
   "metadata": {},
   "outputs": [],
   "source": [
    "y, pred[0]"
   ]
  },
  {
   "cell_type": "code",
   "execution_count": null,
   "metadata": {},
   "outputs": [],
   "source": [
    "loss = CovidLoss()\n",
    "loss(pred[0], pred[1], pred[2], [y, y], y_img, m, 1)"
   ]
  }
 ],
 "metadata": {
  "kernelspec": {
   "display_name": "venv",
   "language": "python",
   "name": "venv"
  },
  "language_info": {
   "codemirror_mode": {
    "name": "ipython",
    "version": 3
   },
   "file_extension": ".py",
   "mimetype": "text/x-python",
   "name": "python",
   "nbconvert_exporter": "python",
   "pygments_lexer": "ipython3",
   "version": "3.8.5"
  }
 },
 "nbformat": 4,
 "nbformat_minor": 4
}
