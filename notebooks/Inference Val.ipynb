{
 "cells": [
  {
   "cell_type": "markdown",
   "metadata": {},
   "source": [
    "#### Code to train models"
   ]
  },
  {
   "cell_type": "code",
   "execution_count": null,
   "metadata": {},
   "outputs": [],
   "source": [
    "%load_ext autoreload\n",
    "%autoreload 2"
   ]
  },
  {
   "cell_type": "code",
   "execution_count": null,
   "metadata": {},
   "outputs": [],
   "source": [
    "cd ../src"
   ]
  },
  {
   "cell_type": "markdown",
   "metadata": {},
   "source": [
    "## Imports"
   ]
  },
  {
   "cell_type": "code",
   "execution_count": null,
   "metadata": {},
   "outputs": [],
   "source": [
    "import os\n",
    "import cv2\n",
    "import json\n",
    "import glob\n",
    "import torch\n",
    "import numpy as np\n",
    "import pandas as pd\n",
    "import seaborn as sns\n",
    "import matplotlib.pyplot as plt\n",
    "\n",
    "from sklearn.metrics import *\n",
    "from collections import Counter\n",
    "from tqdm.notebook import tqdm"
   ]
  },
  {
   "cell_type": "code",
   "execution_count": null,
   "metadata": {},
   "outputs": [],
   "source": [
    "from params import *"
   ]
  },
  {
   "cell_type": "code",
   "execution_count": null,
   "metadata": {},
   "outputs": [],
   "source": [
    "from data.preparation import prepare_dataframe, handle_duplicates, add_additional_boxes\n",
    "from data.dataset import CovidInfDataset\n",
    "from data.transforms import get_tranfos_inference\n",
    "\n",
    "from model_zoo.models import get_model\n",
    "\n",
    "from utils.logger import Config\n",
    "\n",
    "from utils.metrics import study_level_map"
   ]
  },
  {
   "cell_type": "markdown",
   "metadata": {},
   "source": [
    "## Data"
   ]
  },
  {
   "cell_type": "markdown",
   "metadata": {},
   "source": [
    "## Dataset"
   ]
  },
  {
   "cell_type": "code",
   "execution_count": null,
   "metadata": {},
   "outputs": [],
   "source": [
    "root = DATA_PATH + f\"train_{SIZE}/\""
   ]
  },
  {
   "cell_type": "code",
   "execution_count": null,
   "metadata": {},
   "outputs": [],
   "source": [
    "df = prepare_dataframe().copy()"
   ]
  },
  {
   "cell_type": "code",
   "execution_count": null,
   "metadata": {},
   "outputs": [],
   "source": [
    "clusts = np.load(\"../output/clusts.npy\", allow_pickle=True)\n",
    "found = np.load(\"../output/found.npy\")\n",
    "transpositions = np.load(\"../output/transpositions.npy\", allow_pickle=True)\n",
    "\n",
    "df = handle_duplicates(df, clusts, transpositions, plot=False)"
   ]
  },
  {
   "cell_type": "code",
   "execution_count": null,
   "metadata": {},
   "outputs": [],
   "source": [
    "df = add_additional_boxes(df)"
   ]
  },
  {
   "cell_type": "code",
   "execution_count": null,
   "metadata": {},
   "outputs": [],
   "source": [
    "transforms = get_tranfos_inference()\n",
    "dataset = CovidInfDataset(df, root, transforms=transforms)"
   ]
  },
  {
   "cell_type": "code",
   "execution_count": null,
   "metadata": {},
   "outputs": [],
   "source": [
    "img = dataset[0]\n",
    "plt.imshow((img.numpy().transpose(1, 2, 0) + 1) / 2)\n",
    "plt.show()"
   ]
  },
  {
   "cell_type": "code",
   "execution_count": null,
   "metadata": {},
   "outputs": [],
   "source": [
    "img.shape"
   ]
  },
  {
   "cell_type": "markdown",
   "metadata": {},
   "source": [
    "# Main"
   ]
  },
  {
   "cell_type": "code",
   "execution_count": null,
   "metadata": {},
   "outputs": [],
   "source": [
    "from inference.predict import predict\n",
    "from utils.torch import load_model_weights\n",
    "from utils.metrics import study_level_map\n",
    "from sklearn.metrics import roc_auc_score\n",
    "\n",
    "def inference_val(\n",
    "    config,\n",
    "    log_folder,\n",
    "    df,\n",
    "    root_dir=\"\",\n",
    "    flip_tta=False,\n",
    "    scale_tta=False,\n",
    "):\n",
    "    \"\"\"\n",
    "    Inference on the test data.\n",
    "    Args:\n",
    "        config (Config): Parameters.\n",
    "        weights (list of strings): Model weights.\n",
    "        log_folder (None or str, optional): Folder to load the weights from. Defaults to None.\n",
    "        flip_tta (bool, optional): Whether to use hflip tta. Defaults to False.\n",
    "        scale_tta (bool, optional): Whether to use scale tta. Defaults to False.\n",
    "    \"\"\"\n",
    "\n",
    "    model = get_model(\n",
    "        config.selected_model,\n",
    "        use_unet=config.use_unet,\n",
    "        num_classes=config.num_classes,\n",
    "    ).to(config.device)\n",
    "    model.zero_grad()\n",
    "    \n",
    "    weights = sorted(glob.glob(EXP_FOLDER + \"*.pt\"))\n",
    "    assert len(weights) == config.k\n",
    "    \n",
    "    pred_oof_study = np.zeros((len(df), config.num_classes))\n",
    "    pred_oof_img = np.zeros(len(df))\n",
    "    for i, weight in enumerate(weights):\n",
    "        load_model_weights(model, weight)\n",
    "        \n",
    "        df_val = df[df[config.folds_col] == i].copy().reset_index(drop=True)\n",
    "        dataset = CovidInfDataset(\n",
    "            df_val,\n",
    "            root_dir=root_dir,\n",
    "            transforms=get_tranfos_inference(mean=model.mean, std=model.std),\n",
    "        )\n",
    "\n",
    "        pred_study, pred_img = predict(\n",
    "            model,\n",
    "            dataset,\n",
    "            batch_size=config.val_bs,\n",
    "            num_classes=config.num_classes,\n",
    "            flip_tta=flip_tta,\n",
    "            scale_tta=scale_tta,\n",
    "            device=config.device,\n",
    "        )\n",
    "        \n",
    "        val_idx = np.array(df[df[config.folds_col] == i].index)\n",
    "        pred_oof_study[val_idx] = pred_study\n",
    "        pred_oof_img[val_idx] = pred_img\n",
    "\n",
    "    if log_folder is not None:\n",
    "        suffix = \"_flip\" * flip_tta + \"_scale\" * scale_tta\n",
    "        np.save(log_folder + 'pred_oof_study' + suffix + '.npy', pred_oof_study)\n",
    "        np.save(log_folder + 'pred_oof_img' + suffix + '.npy', pred_oof_img)\n",
    "        \n",
    "    score_study = study_level_map(\n",
    "        pred_oof_study, df[CLASSES].values, df[\"study_id\"]\n",
    "    )\n",
    "    score_img = roc_auc_score(df[\"img_target\"].values, pred_oof_img)\n",
    "\n",
    "    print('CV Scores :')\n",
    "    print(f' -> Study mAP : {score_study :.4f}')\n",
    "    print(f' -> Image AUC : {score_img :.4f}')\n",
    "\n",
    "    return pred_oof_study, pred_oof_img"
   ]
  },
  {
   "cell_type": "code",
   "execution_count": null,
   "metadata": {},
   "outputs": [],
   "source": [
    "# EXP_FOLDER = LOG_PATH + \"2021-07-27/15/\"\n",
    "# EXP_FOLDER = LOG_PATH + \"2021-07-28/0/\"\n",
    "EXP_FOLDER = LOG_PATH + \"aphrodeep_2021-07-28_1/\"\n",
    "\n",
    "config = Config(json.load(open(EXP_FOLDER + \"config.json\", 'r')))\n",
    "weights = sorted(glob.glob(EXP_FOLDER + \"*.pt\"))"
   ]
  },
  {
   "cell_type": "code",
   "execution_count": null,
   "metadata": {},
   "outputs": [],
   "source": [
    "pred_oof_study, pred_oof_img = inference_val(\n",
    "    config,\n",
    "    EXP_FOLDER,\n",
    "    df,\n",
    "    root_dir=root,\n",
    "    flip_tta=True,\n",
    "    scale_tta=False,\n",
    ")"
   ]
  },
  {
   "cell_type": "code",
   "execution_count": null,
   "metadata": {},
   "outputs": [],
   "source": [
    "pred_oof_study, pred_oof_img = inference_val(\n",
    "    config,\n",
    "    EXP_FOLDER,\n",
    "    df,\n",
    "    root_dir=root,\n",
    "    flip_tta=False,\n",
    "    scale_tta=False,\n",
    ")"
   ]
  }
 ],
 "metadata": {
  "kernelspec": {
   "display_name": "venv",
   "language": "python",
   "name": "venv"
  },
  "language_info": {
   "codemirror_mode": {
    "name": "ipython",
    "version": 3
   },
   "file_extension": ".py",
   "mimetype": "text/x-python",
   "name": "python",
   "nbconvert_exporter": "python",
   "pygments_lexer": "ipython3",
   "version": "3.8.7"
  }
 },
 "nbformat": 4,
 "nbformat_minor": 4
}
