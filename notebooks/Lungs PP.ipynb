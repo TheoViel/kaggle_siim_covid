{
 "cells": [
  {
   "cell_type": "markdown",
   "metadata": {},
   "source": [
    "#### Code to train models"
   ]
  },
  {
   "cell_type": "code",
   "execution_count": 1,
   "metadata": {},
   "outputs": [],
   "source": [
    "%load_ext autoreload\n",
    "%autoreload 2"
   ]
  },
  {
   "cell_type": "code",
   "execution_count": 2,
   "metadata": {
    "scrolled": true
   },
   "outputs": [
    {
     "name": "stdout",
     "output_type": "stream",
     "text": [
      "/home/theo/Documents/kaggle_siim_covid/src\n"
     ]
    }
   ],
   "source": [
    "cd ../src"
   ]
  },
  {
   "cell_type": "markdown",
   "metadata": {},
   "source": [
    "## Imports"
   ]
  },
  {
   "cell_type": "code",
   "execution_count": 3,
   "metadata": {},
   "outputs": [],
   "source": [
    "import os\n",
    "import cv2\n",
    "import glob\n",
    "import json\n",
    "import torch\n",
    "import numpy as np\n",
    "import pandas as pd\n",
    "import seaborn as sns\n",
    "import matplotlib.pyplot as plt\n",
    "\n",
    "from collections import Counter\n",
    "from tqdm.notebook import tqdm\n",
    "from matplotlib.patches import Rectangle"
   ]
  },
  {
   "cell_type": "code",
   "execution_count": 4,
   "metadata": {},
   "outputs": [],
   "source": [
    "from data.preparation import prepare_dataframe, handle_duplicates, add_additional_boxes\n",
    "from data.dataset import CovidDetDataset, CovidClsDataset\n",
    "from data.transforms import get_transfos_det, get_transfos_cls\n",
    "\n",
    "from model_zoo.models import get_model\n",
    "from model_zoo.encoders import get_encoder\n",
    "\n",
    "from utils.plot import plot_sample\n",
    "from utils.boxes import treat_boxes\n",
    "from utils.logger import prepare_log_folder, save_config, create_logger, update_overall_logs\n",
    "\n",
    "from training.main import k_fold"
   ]
  },
  {
   "cell_type": "code",
   "execution_count": 66,
   "metadata": {},
   "outputs": [],
   "source": [
    "from params import *\n",
    "from data.extraction import *\n",
    "from utils.boxes import Boxes, expand_boxes"
   ]
  },
  {
   "cell_type": "markdown",
   "metadata": {},
   "source": [
    "# PP"
   ]
  },
  {
   "cell_type": "code",
   "execution_count": 56,
   "metadata": {},
   "outputs": [],
   "source": [
    "import ast\n",
    "\n",
    "from map_boxes import mean_average_precision_for_boxes"
   ]
  },
  {
   "cell_type": "code",
   "execution_count": 6,
   "metadata": {},
   "outputs": [],
   "source": [
    "df = prepare_dataframe().copy()"
   ]
  },
  {
   "cell_type": "code",
   "execution_count": 7,
   "metadata": {},
   "outputs": [],
   "source": [
    "clusts = np.load(\"../output/clusts.npy\", allow_pickle=True)\n",
    "found = np.load(\"../output/found.npy\")\n",
    "transpositions = np.load(\"../output/transpositions.npy\", allow_pickle=True)\n",
    "\n",
    "df = handle_duplicates(df, clusts, transpositions, plot=False)"
   ]
  },
  {
   "cell_type": "code",
   "execution_count": 8,
   "metadata": {},
   "outputs": [],
   "source": [
    "df = add_additional_boxes(df)"
   ]
  },
  {
   "cell_type": "code",
   "execution_count": 9,
   "metadata": {},
   "outputs": [],
   "source": [
    "boxes = pd.read_csv('../output/lungs_train')\n",
    "df = df.merge(boxes, left_on=\"image_id\", right_on=\"img_name\", suffixes=('', '_lung'))"
   ]
  },
  {
   "cell_type": "code",
   "execution_count": 10,
   "metadata": {},
   "outputs": [],
   "source": [
    "df['boxes_lung'] = df['boxes_lung'].apply(lambda x: np.array(ast.literal_eval(x)))\n",
    "df['confidences'] = df['confidences'].apply(lambda x: np.array(ast.literal_eval(x)))"
   ]
  },
  {
   "cell_type": "code",
   "execution_count": 38,
   "metadata": {},
   "outputs": [],
   "source": [
    "pred_oof = np.load(\"/home/theo/Documents/kaggle_siim_covid/logs/2021-07-30/0/pred_oof_img.npy\")"
   ]
  },
  {
   "cell_type": "code",
   "execution_count": 135,
   "metadata": {},
   "outputs": [
    {
     "data": {
      "text/plain": [
       "0.9018662130719447"
      ]
     },
     "execution_count": 135,
     "metadata": {},
     "output_type": "execute_result"
    }
   ],
   "source": [
    "from sklearn.metrics import *\n",
    "roc_auc_score(df['img_target'], pred_oof)"
   ]
  },
  {
   "cell_type": "code",
   "execution_count": 174,
   "metadata": {},
   "outputs": [],
   "source": [
    "PLOT = False"
   ]
  },
  {
   "cell_type": "code",
   "execution_count": 188,
   "metadata": {
    "scrolled": true
   },
   "outputs": [],
   "source": [
    "boxes_pred, boxes_truth = [], []\n",
    "tps, fns, fps = 0, 0, 0\n",
    "\n",
    "for i in range(len(df)):\n",
    "    pred = np.array(df['boxes_lung'][i])\n",
    "    truth = np.array(df['boxes'][i])\n",
    "    starts = np.array(df['crop_starts'][i])\n",
    "\n",
    "    shape_crop = df['shape_crop'][i]\n",
    "    shape = df['shape'][i]\n",
    "    \n",
    "    truth = Boxes(truth, shape, bbox_format=\"coco\")[\"albu\"]\n",
    "    \n",
    "    pred = Boxes(pred, shape_crop, bbox_format=\"albu\")[\"coco\"]\n",
    "    \n",
    "    if len(pred):\n",
    "        pred[:, 0] += starts[1]\n",
    "        pred[:, 1] += starts[0]\n",
    "    \n",
    "    pred = Boxes(pred, shape, bbox_format=\"coco\")\n",
    "    pred = expand_boxes(pred, 0.75)[\"albu\"]\n",
    "    \n",
    "    confidence = pred_oof[i]\n",
    "#     confidence = df['img_target'][i]\n",
    "    \n",
    "#     if len(truth):\n",
    "    bp = []\n",
    "    for b in pred:\n",
    "        bp.append([\n",
    "            df[\"study_id\"][i], \"opacity\", confidence, b[0], b[2], b[1], b[3]\n",
    "        ])\n",
    "    boxes_pred += bp\n",
    "\n",
    "    bt = []\n",
    "    for b in truth:\n",
    "        bt.append([\n",
    "            df[\"study_id\"][i], \"opacity\", b[0], b[2], b[1], b[3]\n",
    "        ])\n",
    "        \n",
    "    boxes_truth += bt\n",
    "\n",
    "    if len(bt):\n",
    "        ap = mean_average_precision_for_boxes(bt, bp, verbose=0)[0]\n",
    "    else:\n",
    "        ap = 0\n",
    "    \n",
    "    if PLOT:\n",
    "        print(f' -> mAP : {ap:.3f}')\n",
    "\n",
    "    if confidence > 0.5:\n",
    "        if ap == 1:\n",
    "            tps += 2\n",
    "        elif 0 < ap < 1:  # 1 correct, rest wrong\n",
    "            tps += 1\n",
    "            fns += len(bt) - 1\n",
    "            fps += 1\n",
    "        else:  # 2 wrong\n",
    "            fps += 2\n",
    "            fns += len(bt)\n",
    "    else:\n",
    "        fns += len(bt)\n",
    "\n",
    "    if PLOT:  # or 0 < ap < 1:\n",
    "        if np.max(starts) >= -1: # 100:\n",
    "            xray_path = DATA_PATH + \"train/\" + df[\"study_id\"][i] + \"/\" + df['series_id'][i] + \"/\" + df[\"image_id\"][i] + \".dcm\"\n",
    "            image, _ = read_xray(xray_path)\n",
    "\n",
    "            plt.figure(figsize=(15, 7))\n",
    "            plt.subplot(1, 2, 1)\n",
    "            plot_sample(image, pred, bbox_format=\"albu\")\n",
    "            plt.title(f'pred - {confidence :.3f}')\n",
    "            plt.subplot(1, 2, 2)\n",
    "            plot_sample(image, truth, bbox_format=\"albu\")\n",
    "            plt.title('truth')\n",
    "\n",
    "            plt.show()\n",
    "\n",
    "#         if i > 10:\n",
    "#             break"
   ]
  },
  {
   "cell_type": "code",
   "execution_count": 189,
   "metadata": {},
   "outputs": [
    {
     "data": {
      "text/plain": [
       "(2907, 5397, 6209)"
      ]
     },
     "execution_count": 189,
     "metadata": {},
     "output_type": "execute_result"
    }
   ],
   "source": [
    "tps, fns, fps"
   ]
  },
  {
   "cell_type": "code",
   "execution_count": 190,
   "metadata": {
    "scrolled": false
   },
   "outputs": [
    {
     "name": "stdout",
     "output_type": "stream",
     "text": [
      "Number of files in annotations: 4294\n",
      "Number of files in predictions: 6054\n",
      "Unique classes: 1\n",
      "Detections length: 6054\n",
      "Annotations length: 4294\n",
      "opacity                        | 0.183543 |    8257\n",
      "mAP: 0.183543\n"
     ]
    },
    {
     "data": {
      "text/plain": [
       "(0.1835433195341496, {'opacity': (0.1835433195341496, 8257.0)})"
      ]
     },
     "execution_count": 190,
     "metadata": {},
     "output_type": "execute_result"
    }
   ],
   "source": [
    "mean_average_precision_for_boxes(boxes_truth, boxes_pred)"
   ]
  }
 ],
 "metadata": {
  "kernelspec": {
   "display_name": "venv",
   "language": "python",
   "name": "venv"
  },
  "language_info": {
   "codemirror_mode": {
    "name": "ipython",
    "version": 3
   },
   "file_extension": ".py",
   "mimetype": "text/x-python",
   "name": "python",
   "nbconvert_exporter": "python",
   "pygments_lexer": "ipython3",
   "version": "3.8.5"
  }
 },
 "nbformat": 4,
 "nbformat_minor": 4
}
