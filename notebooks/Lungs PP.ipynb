{
 "cells": [
  {
   "cell_type": "markdown",
   "metadata": {},
   "source": [
    "#### Code to train models"
   ]
  },
  {
   "cell_type": "code",
   "execution_count": 62,
   "metadata": {},
   "outputs": [
    {
     "name": "stdout",
     "output_type": "stream",
     "text": [
      "The autoreload extension is already loaded. To reload it, use:\n",
      "  %reload_ext autoreload\n"
     ]
    }
   ],
   "source": [
    "%load_ext autoreload\n",
    "%autoreload 2"
   ]
  },
  {
   "cell_type": "code",
   "execution_count": 63,
   "metadata": {
    "scrolled": true
   },
   "outputs": [
    {
     "name": "stdout",
     "output_type": "stream",
     "text": [
      "/home/theo/Documents/kaggle_siim_covid/src\n"
     ]
    }
   ],
   "source": [
    "cd ../src"
   ]
  },
  {
   "cell_type": "markdown",
   "metadata": {},
   "source": [
    "## Imports"
   ]
  },
  {
   "cell_type": "code",
   "execution_count": 64,
   "metadata": {},
   "outputs": [],
   "source": [
    "import os\n",
    "import cv2\n",
    "import glob\n",
    "import json\n",
    "import torch\n",
    "import numpy as np\n",
    "import pandas as pd\n",
    "import seaborn as sns\n",
    "import matplotlib.pyplot as plt\n",
    "\n",
    "from collections import Counter\n",
    "from tqdm.notebook import tqdm\n",
    "from matplotlib.patches import Rectangle"
   ]
  },
  {
   "cell_type": "code",
   "execution_count": 65,
   "metadata": {},
   "outputs": [],
   "source": [
    "from data.preparation import prepare_dataframe, handle_duplicates, add_additional_boxes\n",
    "from data.dataset import CovidDetDataset, CovidClsDataset\n",
    "from data.transforms import get_transfos_det, get_transfos_cls\n",
    "\n",
    "from model_zoo.models import get_model\n",
    "from model_zoo.encoders import get_encoder\n",
    "\n",
    "from utils.plot import plot_sample\n",
    "from utils.boxes import treat_boxes\n",
    "from utils.logger import prepare_log_folder, save_config, create_logger, update_overall_logs\n",
    "\n",
    "from training.main import k_fold"
   ]
  },
  {
   "cell_type": "code",
   "execution_count": 66,
   "metadata": {},
   "outputs": [],
   "source": [
    "from params import *\n",
    "from data.extraction import *\n",
    "from utils.boxes import Boxes, expand_boxes"
   ]
  },
  {
   "cell_type": "markdown",
   "metadata": {},
   "source": [
    "# PP"
   ]
  },
  {
   "cell_type": "code",
   "execution_count": 67,
   "metadata": {},
   "outputs": [],
   "source": [
    "import ast\n",
    "\n",
    "from map_boxes import mean_average_precision_for_boxes"
   ]
  },
  {
   "cell_type": "code",
   "execution_count": 68,
   "metadata": {},
   "outputs": [],
   "source": [
    "df = prepare_dataframe().copy()"
   ]
  },
  {
   "cell_type": "code",
   "execution_count": 69,
   "metadata": {},
   "outputs": [],
   "source": [
    "clusts = np.load(\"../output/clusts.npy\", allow_pickle=True)\n",
    "found = np.load(\"../output/found.npy\")\n",
    "transpositions = np.load(\"../output/transpositions.npy\", allow_pickle=True)\n",
    "\n",
    "df = handle_duplicates(df, clusts, transpositions, plot=False)"
   ]
  },
  {
   "cell_type": "code",
   "execution_count": 70,
   "metadata": {},
   "outputs": [],
   "source": [
    "df = add_additional_boxes(df)"
   ]
  },
  {
   "cell_type": "code",
   "execution_count": 71,
   "metadata": {},
   "outputs": [],
   "source": [
    "boxes = pd.read_csv('../output/lungs_train')\n",
    "df = df.merge(boxes, left_on=\"image_id\", right_on=\"img_name\", suffixes=('', '_lung'))"
   ]
  },
  {
   "cell_type": "code",
   "execution_count": 72,
   "metadata": {},
   "outputs": [],
   "source": [
    "df['boxes_lung'] = df['boxes_lung'].apply(lambda x: np.array(ast.literal_eval(x)))\n",
    "df['confidences'] = df['confidences'].apply(lambda x: np.array(ast.literal_eval(x)))"
   ]
  },
  {
   "cell_type": "code",
   "execution_count": 73,
   "metadata": {},
   "outputs": [],
   "source": [
    "pred_oof = np.load(\"/home/theo/Documents/kaggle_siim_covid/logs/2021-07-30/0/pred_oof_img.npy\")"
   ]
  },
  {
   "cell_type": "code",
   "execution_count": 74,
   "metadata": {},
   "outputs": [
    {
     "data": {
      "text/plain": [
       "0.9018662130719447"
      ]
     },
     "execution_count": 74,
     "metadata": {},
     "output_type": "execute_result"
    }
   ],
   "source": [
    "from sklearn.metrics import *\n",
    "roc_auc_score(df['img_target'], pred_oof)"
   ]
  },
  {
   "cell_type": "code",
   "execution_count": 56,
   "metadata": {},
   "outputs": [],
   "source": [
    "PLOT = False\n",
    "COMPUTE_MAP = False\n",
    "COMPUTE_CROPS = False"
   ]
  },
  {
   "cell_type": "code",
   "execution_count": 77,
   "metadata": {
    "scrolled": true
   },
   "outputs": [
    {
     "data": {
      "application/vnd.jupyter.widget-view+json": {
       "model_id": "1979ca966d4c4b9aa0399c7e1044daff",
       "version_major": 2,
       "version_minor": 0
      },
      "text/plain": [
       "HBox(children=(HTML(value=''), FloatProgress(value=0.0, max=6333.0), HTML(value='')))"
      ]
     },
     "metadata": {},
     "output_type": "display_data"
    },
    {
     "name": "stdout",
     "output_type": "stream",
     "text": [
      "\n"
     ]
    }
   ],
   "source": [
    "boxes_pred, boxes_truth = [], []\n",
    "tps, fns, fps = 0, 0, 0\n",
    "boxes_dic_for_crop = {}\n",
    "\n",
    "for i in tqdm(range(len(df))):\n",
    "    pred = np.array(df['boxes_lung'][i])\n",
    "    truth = np.array(df['boxes'][i])\n",
    "    starts = np.array(df['crop_starts'][i])\n",
    "\n",
    "    shape_crop = df['shape_crop'][i]\n",
    "    shape = df['shape'][i]\n",
    "    \n",
    "    truth = Boxes(truth, shape, bbox_format=\"coco\")[\"albu\"]\n",
    "\n",
    "    pred = Boxes(pred, shape_crop, bbox_format=\"albu\")[\"coco\"]\n",
    "    \n",
    "    if len(pred):\n",
    "        pred[:, 0] += starts[1]\n",
    "        pred[:, 1] += starts[0]\n",
    "\n",
    "    if COMPUTE_CROPS:\n",
    "        pred_ = Boxes(pred.copy(), shape, bbox_format=\"coco\")[\"pascal_voc\"]\n",
    "        \n",
    "        x_start = pred_[:, 0].min()\n",
    "        y_start = pred_[:, 1].min()\n",
    "        x_end = pred_[:, 2].max()\n",
    "        y_end = pred_[:, 3].max()\n",
    "\n",
    "        pred_for_crop = Boxes(np.array([[x_start, y_start, x_end, y_end]]), shape, bbox_format=\"pascal_voc\")\n",
    "#         pred_for_crop.expand(1.2)\n",
    "        boxes_dic[df[\"image_id\"][i]] = pred_for_crop[\"pascal_voc\"].tolist()\n",
    "\n",
    "    pred = Boxes(pred, shape, bbox_format=\"coco\")\n",
    "    pred = expand_boxes(pred, 0.75)[\"albu\"]\n",
    "    \n",
    "    confidence = pred_oof[i]\n",
    "#     confidence = df['img_target'][i]\n",
    "    \n",
    "    bp = []\n",
    "    for b in pred:\n",
    "        bp.append([\n",
    "            df[\"image_id\"][i], \"opacity\", confidence, b[0], b[2], b[1], b[3]\n",
    "        ])\n",
    "    boxes_pred += bp\n",
    "\n",
    "    bt = []\n",
    "    for b in truth:\n",
    "        bt.append([\n",
    "            df[\"image_id\"][i], \"opacity\", b[0], b[2], b[1], b[3]\n",
    "        ])\n",
    "\n",
    "    boxes_truth += bt\n",
    "\n",
    "    if COMPUTE_MAP:\n",
    "        if len(bt):\n",
    "            ap = mean_average_precision_for_boxes(bt, bp, verbose=0)[0]\n",
    "        else:\n",
    "            ap = 0\n",
    "        print(f' -> mAP : {ap:.3f}')\n",
    "\n",
    "        if confidence > 0.5:\n",
    "            if ap == 1:\n",
    "                tps += 2\n",
    "            elif 0 < ap < 1:  # 1 correct, rest wrong\n",
    "                tps += 1\n",
    "                fns += len(bt) - 1\n",
    "                fps += 1\n",
    "            else:  # 2 wrong\n",
    "                fps += 2\n",
    "                fns += len(bt)\n",
    "        else:\n",
    "            fns += len(bt)\n",
    "\n",
    "    if PLOT:  # or 0 < ap < 1:\n",
    "        if np.max(starts) >= -1: # 100:\n",
    "            xray_path = DATA_PATH + \"train/\" + df[\"study_id\"][i] + \"/\" + df['series_id'][i] + \"/\" + df[\"image_id\"][i] + \".dcm\"\n",
    "            image, _ = read_xray(xray_path)\n",
    "\n",
    "            plt.figure(figsize=(15, 7))\n",
    "            plt.subplot(1, 2, 1)\n",
    "            plot_sample(image, pred, bbox_format=\"albu\")\n",
    "            plt.title(f'pred - {confidence :.3f}')\n",
    "#             plt.subplot(1, 2, 2)\n",
    "#             plot_sample(image, truth, bbox_format=\"albu\")\n",
    "#             plt.title('truth')\n",
    "            \n",
    "            plt.subplot(1, 2, 2)\n",
    "            print(boxes_dic[df[\"image_id\"][i]])\n",
    "            plot_sample(image, np.array(boxes_dic[df[\"image_id\"][i]]), bbox_format=\"pascal_voc\")\n",
    "            plt.title('crop')\n",
    "            plt.axis(True)\n",
    "\n",
    "            plt.show()\n",
    "\n",
    "        if i > 10:\n",
    "            break\n",
    "\n",
    "if COMPUTE_CROPS and len(boxes_dic) == len(df):\n",
    "    json.dump(boxes_dic, open(\"../output/boxes_dic.json\", \"w\"))"
   ]
  },
  {
   "cell_type": "code",
   "execution_count": 78,
   "metadata": {
    "scrolled": true
   },
   "outputs": [
    {
     "name": "stdout",
     "output_type": "stream",
     "text": [
      "Number of files in annotations: 4510\n",
      "Number of files in predictions: 6333\n",
      "Unique classes: 1\n",
      "Detections length: 6333\n",
      "Annotations length: 4510\n",
      "opacity                        | 0.197985 |    8257\n",
      "mAP: 0.197985\n"
     ]
    },
    {
     "data": {
      "text/plain": [
       "(0.19798540444870313, {'opacity': (0.19798540444870313, 8257.0)})"
      ]
     },
     "execution_count": 78,
     "metadata": {},
     "output_type": "execute_result"
    }
   ],
   "source": [
    "mean_average_precision_for_boxes(boxes_truth, boxes_pred)"
   ]
  }
 ],
 "metadata": {
  "kernelspec": {
   "display_name": "venv",
   "language": "python",
   "name": "venv"
  },
  "language_info": {
   "codemirror_mode": {
    "name": "ipython",
    "version": 3
   },
   "file_extension": ".py",
   "mimetype": "text/x-python",
   "name": "python",
   "nbconvert_exporter": "python",
   "pygments_lexer": "ipython3",
   "version": "3.8.5"
  }
 },
 "nbformat": 4,
 "nbformat_minor": 4
}
