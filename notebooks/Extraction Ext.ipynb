{
 "cells": [
  {
   "cell_type": "markdown",
   "metadata": {},
   "source": [
    "#### Code to extract data\n",
    "\n",
    "**TODO** : \n",
    "- lung localizer to crop + window"
   ]
  },
  {
   "cell_type": "code",
   "execution_count": null,
   "metadata": {},
   "outputs": [],
   "source": [
    "%load_ext autoreload\n",
    "%autoreload 2"
   ]
  },
  {
   "cell_type": "code",
   "execution_count": null,
   "metadata": {
    "scrolled": true
   },
   "outputs": [],
   "source": [
    "cd ../src"
   ]
  },
  {
   "cell_type": "markdown",
   "metadata": {},
   "source": [
    "## Imports"
   ]
  },
  {
   "cell_type": "code",
   "execution_count": null,
   "metadata": {},
   "outputs": [],
   "source": [
    "import os\n",
    "import cv2\n",
    "import glob\n",
    "import gdcm\n",
    "import pydicom\n",
    "import numpy as np\n",
    "import pandas as pd\n",
    "import seaborn as sns\n",
    "import matplotlib.pyplot as plt\n",
    "\n",
    "from PIL import Image\n",
    "from tqdm.notebook import tqdm"
   ]
  },
  {
   "cell_type": "code",
   "execution_count": null,
   "metadata": {},
   "outputs": [],
   "source": [
    "from params import *\n",
    "from data.extraction import *"
   ]
  },
  {
   "cell_type": "markdown",
   "metadata": {},
   "source": [
    "# Bim"
   ]
  },
  {
   "cell_type": "code",
   "execution_count": null,
   "metadata": {},
   "outputs": [],
   "source": [
    "BIM_PATH = \"../input/bimcv_positive_images/\""
   ]
  },
  {
   "cell_type": "code",
   "execution_count": null,
   "metadata": {},
   "outputs": [],
   "source": [
    "paths = glob.glob(BIM_PATH + \"*.png\")"
   ]
  },
  {
   "cell_type": "code",
   "execution_count": null,
   "metadata": {},
   "outputs": [],
   "source": [
    "meta_bim = pd.DataFrame({\"path\": paths})"
   ]
  },
  {
   "cell_type": "code",
   "execution_count": null,
   "metadata": {},
   "outputs": [],
   "source": [
    "meta_bim['target'] = 1"
   ]
  },
  {
   "cell_type": "code",
   "execution_count": null,
   "metadata": {},
   "outputs": [],
   "source": [
    "meta_bim.to_csv(\"../input/meta_bim.csv\", index=False)"
   ]
  },
  {
   "cell_type": "markdown",
   "metadata": {},
   "source": [
    "# Ricord"
   ]
  },
  {
   "cell_type": "markdown",
   "metadata": {},
   "source": [
    "### Load"
   ]
  },
  {
   "cell_type": "code",
   "execution_count": null,
   "metadata": {},
   "outputs": [],
   "source": [
    "# paths = glob.glob(BIM_PATH + \"*.png\")"
   ]
  },
  {
   "cell_type": "code",
   "execution_count": null,
   "metadata": {},
   "outputs": [],
   "source": [
    "meta_ricord = pd.read_csv(DATA_PATH + 'MIDRC-RICORD-meta.csv')\n",
    "meta_ricord = meta_ricord[~meta_ricord['labels'].isna()]"
   ]
  },
  {
   "cell_type": "markdown",
   "metadata": {},
   "source": [
    "### Labels"
   ]
  },
  {
   "cell_type": "code",
   "execution_count": null,
   "metadata": {},
   "outputs": [],
   "source": [
    "import re\n",
    "\n",
    "def treat_label(label):\n",
    "    label = re.sub(',', ' ', label.lower())\n",
    "    label = label.split(' ')\n",
    "\n",
    "    labels = np.zeros(4)\n",
    "    for l in label:\n",
    "        if l in CLASSES:\n",
    "            labels[CLASSES.index(l)] += 1\n",
    "    \n",
    "    return labels.astype(int)\n",
    "#     return \" \".join(labels.astype(int).astype(str))"
   ]
  },
  {
   "cell_type": "code",
   "execution_count": null,
   "metadata": {},
   "outputs": [],
   "source": [
    "def vote(label):\n",
    "    n = label.sum()\n",
    "    \n",
    "    label = label > n / 2\n",
    "    \n",
    "    return label.astype(int)"
   ]
  },
  {
   "cell_type": "code",
   "execution_count": null,
   "metadata": {
    "scrolled": true
   },
   "outputs": [],
   "source": [
    "meta_ricord['study_labels'] = meta_ricord['labels'].apply(treat_label)\n",
    "meta_ricord['study_label'] = meta_ricord['study_labels'].apply(vote)"
   ]
  },
  {
   "cell_type": "code",
   "execution_count": null,
   "metadata": {
    "scrolled": true
   },
   "outputs": [],
   "source": [
    "y = np.stack(meta_ricord['study_label'].values.tolist())\n",
    "for i, c in enumerate(CLASSES):\n",
    "    meta_ricord[c] = y[:, i]\n",
    "    \n",
    "meta_ricord['unk_label'] = (y.sum(1) == 0)"
   ]
  },
  {
   "cell_type": "code",
   "execution_count": null,
   "metadata": {},
   "outputs": [],
   "source": [
    "RICORD_PATH = \"../input/MIDRC-RICORD/MIDRC-RICORD/\""
   ]
  },
  {
   "cell_type": "code",
   "execution_count": null,
   "metadata": {},
   "outputs": [],
   "source": [
    "SAVE_DIR = \"../input/MIDRC-RICORD/imgs/\"\n",
    "os.mkdir(SAVE_DIR)"
   ]
  },
  {
   "cell_type": "code",
   "execution_count": null,
   "metadata": {
    "scrolled": true
   },
   "outputs": [],
   "source": [
    "save_paths = []\n",
    "for i, path in enumerate(tqdm(meta_ricord['fname'])):\n",
    "    img = cv2.imread(RICORD_PATH + path)\n",
    "    \n",
    "    if len(img.shape) == 3:\n",
    "        img = img.mean(-1)\n",
    "    \n",
    "    img = img - img.min()\n",
    "    img, window = auto_windowing(img)\n",
    "\n",
    "    try:\n",
    "        img, crop_starts = remove_padding(img)\n",
    "    except:\n",
    "        pass\n",
    "        \n",
    "    img = cv2.resize(img, (SIZE, SIZE), interpolation=cv2.INTER_LINEAR)\n",
    "    \n",
    "    if not (i % 100):\n",
    "        plt.figure(figsize=(9, 9))\n",
    "        plt.imshow(img, cmap=\"gray\")\n",
    "        plt.show()\n",
    "    \n",
    "    cv2.imwrite(SAVE_DIR + path[:-8] + \".png\", img)\n",
    "    save_paths.append(SAVE_DIR + path[:-8] + \".png\")\n",
    "\n",
    "#     break"
   ]
  },
  {
   "cell_type": "code",
   "execution_count": null,
   "metadata": {},
   "outputs": [],
   "source": [
    "meta_ricord['path'] = save_paths"
   ]
  },
  {
   "cell_type": "code",
   "execution_count": null,
   "metadata": {},
   "outputs": [],
   "source": [
    "meta_ricord.to_csv(\"../input/meta_ricord.csv\", index=False)"
   ]
  },
  {
   "cell_type": "markdown",
   "metadata": {},
   "source": [
    "# Covidx"
   ]
  },
  {
   "cell_type": "code",
   "execution_count": null,
   "metadata": {},
   "outputs": [],
   "source": [
    "COVIDX_PATH = DATA_PATH + \"train/\""
   ]
  },
  {
   "cell_type": "code",
   "execution_count": null,
   "metadata": {},
   "outputs": [],
   "source": [
    "meta_covidx = pd.read_csv(DATA_PATH + \"train.txt\", sep=\" \", names=['path', 'label', 'dataset']).reset_index()"
   ]
  },
  {
   "cell_type": "code",
   "execution_count": null,
   "metadata": {},
   "outputs": [],
   "source": [
    "SAVE_DIR = \"../input/covidx_imgs/\"\n",
    "os.mkdir(SAVE_DIR)"
   ]
  },
  {
   "cell_type": "code",
   "execution_count": null,
   "metadata": {
    "scrolled": true
   },
   "outputs": [],
   "source": [
    "save_paths = []\n",
    "for i, path in enumerate(tqdm(meta_covidx['path'])):\n",
    "    img = cv2.imread(COVIDX_PATH + path)\n",
    "\n",
    "    if len(img.shape) == 3:\n",
    "        img = img.mean(-1)\n",
    "    \n",
    "    img = img - img.min()\n",
    "    img, window = auto_windowing(img)\n",
    "\n",
    "#     img, crop_starts = remove_padding(img)\n",
    "        \n",
    "    img = cv2.resize(img, (SIZE, SIZE), interpolation=cv2.INTER_LINEAR)\n",
    "    \n",
    "    if not (i % 100):\n",
    "        plt.figure(figsize=(9, 9))\n",
    "        plt.imshow(img, cmap=\"gray\")\n",
    "        plt.show()\n",
    "        \n",
    "    assert not os.path.exists(SAVE_DIR + path + \".png\")\n",
    "    \n",
    "    cv2.imwrite(SAVE_DIR + path + \".png\", img)\n",
    "    save_paths.append(SAVE_DIR + path + \".png\")\n"
   ]
  },
  {
   "cell_type": "code",
   "execution_count": null,
   "metadata": {},
   "outputs": [],
   "source": [
    "meta_covidx['path'] = save_paths"
   ]
  },
  {
   "cell_type": "code",
   "execution_count": null,
   "metadata": {},
   "outputs": [],
   "source": [
    "meta_covidx.to_csv(\"../input/meta_covidx.csv\", index=False)"
   ]
  }
 ],
 "metadata": {
  "kernelspec": {
   "display_name": "venv",
   "language": "python",
   "name": "venv"
  },
  "language_info": {
   "codemirror_mode": {
    "name": "ipython",
    "version": 3
   },
   "file_extension": ".py",
   "mimetype": "text/x-python",
   "name": "python",
   "nbconvert_exporter": "python",
   "pygments_lexer": "ipython3",
   "version": "3.8.7"
  }
 },
 "nbformat": 4,
 "nbformat_minor": 4
}
