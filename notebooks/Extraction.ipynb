{
 "cells": [
  {
   "cell_type": "markdown",
   "metadata": {},
   "source": [
    "#### Code to extract data"
   ]
  },
  {
   "cell_type": "code",
   "execution_count": null,
   "metadata": {},
   "outputs": [],
   "source": [
    "%load_ext autoreload\n",
    "%autoreload 2"
   ]
  },
  {
   "cell_type": "code",
   "execution_count": null,
   "metadata": {},
   "outputs": [],
   "source": [
    "cd ../src"
   ]
  },
  {
   "cell_type": "markdown",
   "metadata": {},
   "source": [
    "## Imports"
   ]
  },
  {
   "cell_type": "code",
   "execution_count": null,
   "metadata": {},
   "outputs": [],
   "source": [
    "import os\n",
    "import cv2\n",
    "import glob\n",
    "import gdcm\n",
    "import pydicom\n",
    "import numpy as np\n",
    "import pandas as pd\n",
    "import seaborn as sns\n",
    "import matplotlib.pyplot as plt\n",
    "\n",
    "from PIL import Image\n",
    "from tqdm.notebook import tqdm"
   ]
  },
  {
   "cell_type": "code",
   "execution_count": null,
   "metadata": {},
   "outputs": [],
   "source": [
    "from params import *\n",
    "from data.extraction import *"
   ]
  },
  {
   "cell_type": "code",
   "execution_count": null,
   "metadata": {
    "scrolled": false
   },
   "outputs": [],
   "source": [
    "paths = glob.glob(TRAIN_DCM_PATH + \"*/*/*.dcm\")\n",
    "\n",
    "for path in np.random.choice(paths, 1):\n",
    "    print(f\"Image {path}\")\n",
    "    img, metadata = read_xray(path)\n",
    "\n",
    "    # sns.histplot(img.flatten())\n",
    "    # plt.axvline(end, c=\"salmon\")\n",
    "    # plt.axvline(start, c=\"salmon\")\n",
    "    # plt.show()\n",
    "\n",
    "    img_, window = auto_windowing(img.copy())\n",
    "    img_, starts = remove_padding(img_)\n",
    "\n",
    "    plt.figure(figsize=(9, 9))\n",
    "    plt.imshow(img_, cmap=\"gray\")\n",
    "    plt.title(f'Window : {window}')\n",
    "    plt.show()\n",
    "\n",
    "    plt.figure(figsize=(9, 9))\n",
    "    plt.imshow(img, cmap=\"gray\")\n",
    "    plt.title(f'Original')\n",
    "    plt.show()\n",
    "    \n",
    "#     break"
   ]
  },
  {
   "cell_type": "markdown",
   "metadata": {},
   "source": [
    "### Params"
   ]
  },
  {
   "cell_type": "code",
   "execution_count": null,
   "metadata": {},
   "outputs": [],
   "source": [
    "if not os.path.exists(DCM_PATH):\n",
    "    DCM_PATH = DATA_PATH"
   ]
  },
  {
   "cell_type": "code",
   "execution_count": null,
   "metadata": {},
   "outputs": [],
   "source": [
    "SIZE = 512\n",
    "DATABASE = \"train\"\n",
    "SAVE_DIR = DATA_PATH + f\"{DATABASE}_{SIZE}/\"\n",
    "\n",
    "if not os.path.exists(SAVE_DIR):\n",
    "    os.mkdir(SAVE_DIR)"
   ]
  },
  {
   "cell_type": "code",
   "execution_count": null,
   "metadata": {},
   "outputs": [],
   "source": [
    "df = pd.read_csv(DATA_PATH + \"train_image_level.csv\")"
   ]
  },
  {
   "cell_type": "code",
   "execution_count": null,
   "metadata": {
    "scrolled": true
   },
   "outputs": [],
   "source": [
    "infos = []\n",
    "for i in tqdm(range(len(df))):\n",
    "    study = df['StudyInstanceUID'][i]\n",
    "    image = df['id'][i].split('_')[0]\n",
    "\n",
    "    study_path = os.path.join(DCM_PATH, DATABASE, study)\n",
    "    series = os.listdir(study_path)\n",
    "    \n",
    "    found = False\n",
    "    for s in series:\n",
    "        img_path = os.path.join(study_path, s, image + \".dcm\")\n",
    "        if os.path.exists(img_path):\n",
    "            found = True\n",
    "            break\n",
    "            \n",
    "    if not found:\n",
    "        print(f'Image {i} not found')\n",
    "        continue\n",
    "    \n",
    "    img, meta = read_xray(img_path)\n",
    "    shape = img.shape\n",
    "\n",
    "    img, window = auto_windowing(img)\n",
    "\n",
    "    img, crop_starts = remove_padding(img)\n",
    "    \n",
    "    shape_crop = img.shape\n",
    "\n",
    "    if not (i % 500):\n",
    "        plt.figure(figsize=(9, 9))\n",
    "        plt.imshow(img, cmap=\"gray\")\n",
    "        plt.axis(False)\n",
    "        plt.show()\n",
    "        \n",
    "    img = cv2.resize(img, (SIZE, SIZE), interpolation=cv2.INTER_LINEAR)\n",
    "    \n",
    "    save_name = f\"{study}_{image}.png\"\n",
    "    cv2.imwrite(SAVE_DIR + save_name, img)\n",
    "\n",
    "    info_dic = {\n",
    "        \"study_id\": [study],\n",
    "        \"series_id\": [s],\n",
    "        \"image_id\": [image],\n",
    "        \"save_name\": [save_name],\n",
    "        \"shape\": [shape],\n",
    "        \"shape_crop\": [shape_crop],\n",
    "        \"window\": [window],\n",
    "        \"crop_starts\": [crop_starts],\n",
    "        \"photometric_interpreation\": [meta.PhotometricInterpretation],\n",
    "        \"series_number\": [meta.SeriesNumber],\n",
    "        \"instance_number\": [meta.InstanceNumber],\n",
    "    }\n",
    "    infos.append(pd.DataFrame.from_dict(info_dic))\n",
    "\n",
    "#     break\n",
    "\n",
    "infos = pd.concat(infos).reset_index(drop=True)\n",
    "\n",
    "if len(infos) == len(df):\n",
    "    infos.to_csv(DATA_PATH + f'df_{DATABASE}_{SIZE}.csv', index=False)"
   ]
  },
  {
   "cell_type": "code",
   "execution_count": null,
   "metadata": {},
   "outputs": [],
   "source": [
    "infos.head()"
   ]
  }
 ],
 "metadata": {
  "kernelspec": {
   "display_name": "venv",
   "language": "python",
   "name": "venv"
  },
  "language_info": {
   "codemirror_mode": {
    "name": "ipython",
    "version": 3
   },
   "file_extension": ".py",
   "mimetype": "text/x-python",
   "name": "python",
   "nbconvert_exporter": "python",
   "pygments_lexer": "ipython3",
   "version": "3.8.7"
  }
 },
 "nbformat": 4,
 "nbformat_minor": 4
}
