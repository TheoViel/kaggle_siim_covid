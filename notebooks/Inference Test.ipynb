{
 "cells": [
  {
   "cell_type": "markdown",
   "metadata": {},
   "source": [
    "#### Code to train models"
   ]
  },
  {
   "cell_type": "code",
   "execution_count": null,
   "metadata": {},
   "outputs": [],
   "source": [
    "%load_ext autoreload\n",
    "%autoreload 2"
   ]
  },
  {
   "cell_type": "code",
   "execution_count": null,
   "metadata": {},
   "outputs": [],
   "source": [
    "cd ../src"
   ]
  },
  {
   "cell_type": "markdown",
   "metadata": {},
   "source": [
    "## Imports"
   ]
  },
  {
   "cell_type": "code",
   "execution_count": null,
   "metadata": {},
   "outputs": [],
   "source": [
    "import os\n",
    "import cv2\n",
    "import json\n",
    "import glob\n",
    "import torch\n",
    "import numpy as np\n",
    "import pandas as pd\n",
    "import seaborn as sns\n",
    "import matplotlib.pyplot as plt\n",
    "\n",
    "from sklearn.metrics import *\n",
    "from collections import Counter\n",
    "from tqdm.notebook import tqdm"
   ]
  },
  {
   "cell_type": "code",
   "execution_count": null,
   "metadata": {},
   "outputs": [],
   "source": [
    "from params import *"
   ]
  },
  {
   "cell_type": "code",
   "execution_count": null,
   "metadata": {},
   "outputs": [],
   "source": [
    "from data.dataset import CovidInfDataset\n",
    "from data.transforms import get_tranfos_inference\n",
    "\n",
    "from model_zoo.models import get_model\n",
    "\n",
    "from utils.logger import Config"
   ]
  },
  {
   "cell_type": "markdown",
   "metadata": {},
   "source": [
    "## Data"
   ]
  },
  {
   "cell_type": "markdown",
   "metadata": {},
   "source": [
    "### Load"
   ]
  },
  {
   "cell_type": "markdown",
   "metadata": {},
   "source": [
    "## Dataset"
   ]
  },
  {
   "cell_type": "code",
   "execution_count": null,
   "metadata": {},
   "outputs": [],
   "source": [
    "from data.dataset import CovidInfDataset\n",
    "from data.transforms import get_tranfos_inference"
   ]
  },
  {
   "cell_type": "code",
   "execution_count": null,
   "metadata": {},
   "outputs": [],
   "source": [
    "root = DATA_PATH + f\"test_{SIZE}/\"\n",
    "df = pd.read_csv(DATA_PATH + f'df_test_{SIZE}.csv')"
   ]
  },
  {
   "cell_type": "code",
   "execution_count": null,
   "metadata": {},
   "outputs": [],
   "source": [
    "transforms = get_tranfos_inference()\n",
    "dataset = CovidInfDataset(df, root, transforms=transforms)"
   ]
  },
  {
   "cell_type": "code",
   "execution_count": null,
   "metadata": {},
   "outputs": [],
   "source": [
    "img = dataset[0]\n",
    "plt.imshow((img.numpy().transpose(1, 2, 0) + 1) / 2)\n",
    "plt.show()"
   ]
  },
  {
   "cell_type": "code",
   "execution_count": null,
   "metadata": {},
   "outputs": [],
   "source": [
    "df.head()"
   ]
  },
  {
   "cell_type": "code",
   "execution_count": null,
   "metadata": {},
   "outputs": [],
   "source": [
    "df_bim = pd.read_csv(DATA_PATH + \"meta_bim.csv\")\n",
    "df_covidx = pd.read_csv(DATA_PATH + \"meta_covidx.csv\")\n",
    "df_ricord = pd.read_csv(DATA_PATH + \"meta_ricord.csv\")"
   ]
  },
  {
   "cell_type": "code",
   "execution_count": null,
   "metadata": {},
   "outputs": [],
   "source": [
    "df_bim[\"save_name\"] = df_bim[\"path\"]\n",
    "df_covidx[\"save_name\"] = df_covidx[\"path\"]\n",
    "df_ricord[\"save_name\"] = df_ricord[\"path\"]"
   ]
  },
  {
   "cell_type": "code",
   "execution_count": null,
   "metadata": {},
   "outputs": [],
   "source": [
    "df_ext = pd.concat([df_bim, df_covidx, df_ricord]).reset_index(drop=True).dropna(axis=1)"
   ]
  },
  {
   "cell_type": "markdown",
   "metadata": {},
   "source": [
    "# Main test"
   ]
  },
  {
   "cell_type": "code",
   "execution_count": null,
   "metadata": {},
   "outputs": [],
   "source": [
    "from inference.predict import predict\n",
    "from utils.torch import load_model_weights\n",
    "\n",
    "def inference(\n",
    "    config,\n",
    "    weights,\n",
    "    df,\n",
    "    root_dir=\"\",\n",
    "    log_folder=None,\n",
    "    flip_tta=False,\n",
    "    scale_tta=False,\n",
    "    suffix=\"test\",\n",
    "    save_all_folds=False,\n",
    "):\n",
    "    \"\"\"\n",
    "    Inference on the test data.\n",
    "    Args:\n",
    "        config (Config): Parameters.\n",
    "        weights (list of strings): Model weights.\n",
    "        log_folder (None or str, optional): Folder to load the weights from. Defaults to None.\n",
    "        flip_tta (bool, optional): Whether to use hflip tta. Defaults to False.\n",
    "        scale_tta (bool, optional): Whether to use scale tta. Defaults to False.\n",
    "    \"\"\"\n",
    "\n",
    "    model = get_model(\n",
    "        config.selected_model,\n",
    "        use_unet=config.use_unet,\n",
    "        num_classes=config.num_classes,\n",
    "    ).to(config.device)\n",
    "    model.zero_grad()\n",
    "    \n",
    "    dataset = CovidInfDataset(\n",
    "        df,\n",
    "        root_dir=root_dir,\n",
    "        transforms=get_tranfos_inference(mean=model.mean, std=model.std),\n",
    "    )\n",
    "    \n",
    "    preds_study, preds_img = [], []\n",
    "    for i, weight in enumerate(weights):\n",
    "        load_model_weights(model, weight)\n",
    "\n",
    "        pred_study, pred_img = predict(\n",
    "            model,\n",
    "            dataset,\n",
    "            batch_size=config.val_bs,\n",
    "            num_classes=config.num_classes,\n",
    "            flip_tta=flip_tta,\n",
    "            scale_tta=scale_tta,\n",
    "            device=config.device,\n",
    "        )\n",
    "        \n",
    "        if log_folder is not None and save_all_folds:\n",
    "            tta_suffix = \"_flip\" * flip_tta + \"_scale\" * scale_tta\n",
    "            np.save(log_folder + f'preds_{suffix}_study{tta_suffix}_{i}.npy', pred_study)\n",
    "            np.save(log_folder + f'preds_{suffix}_img{tta_suffix}_{i}.npy', pred_img)\n",
    "\n",
    "        preds_study.append(pred_study)\n",
    "        preds_img.append(pred_img)\n",
    "\n",
    "    preds_study = np.mean(preds_study, 0)\n",
    "    preds_img = np.mean(preds_img, 0)\n",
    "\n",
    "    if log_folder is not None and not save_all_folds:\n",
    "        tta_suffix = \"_flip\" * flip_tta + \"_scale\" * scale_tta\n",
    "        np.save(log_folder + f'preds_{suffix}_study{tta_suffix}.npy', preds_study)\n",
    "        np.save(log_folder + f'preds_{suffix}_img{tta_suffix}.npy', preds_img)\n",
    "\n",
    "    return preds_study, preds_img"
   ]
  },
  {
   "cell_type": "code",
   "execution_count": null,
   "metadata": {},
   "outputs": [],
   "source": [
    "# EXP_FOLDER = LOG_PATH + \"2021-07-30/4/\"\n",
    "# EXP_FOLDER = LOG_PATH + \"2021-07-31/0/\"\n",
    "# EXP_FOLDER = LOG_PATH +  \"aphrodeep_v2s_lung/\"\n",
    "\n",
    "config = Config(json.load(open(EXP_FOLDER + \"config.json\", 'r')))\n",
    "weights = sorted(glob.glob(EXP_FOLDER + \"*.pt\"))"
   ]
  },
  {
   "cell_type": "code",
   "execution_count": null,
   "metadata": {},
   "outputs": [],
   "source": [
    "# ext data\n",
    "suffix = \"ext\"\n",
    "df = df_ext\n",
    "root = \"\""
   ]
  },
  {
   "cell_type": "code",
   "execution_count": null,
   "metadata": {},
   "outputs": [],
   "source": [
    "# test data\n",
    "suffix = \"test\"\n",
    "root = DATA_PATH + f\"test_{SIZE}/\"\n",
    "df = pd.read_csv(DATA_PATH + f'df_test_{SIZE}.csv')"
   ]
  },
  {
   "cell_type": "code",
   "execution_count": null,
   "metadata": {},
   "outputs": [],
   "source": [
    "preds_study, preds_img = inference(\n",
    "    config,\n",
    "    weights,\n",
    "    df,\n",
    "    root_dir=root,\n",
    "    log_folder=EXP_FOLDER,\n",
    "    flip_tta=True,\n",
    "    scale_tta=False,\n",
    "    suffix=suffix,\n",
    "    save_all_folds=True,\n",
    ")"
   ]
  }
 ],
 "metadata": {
  "kernelspec": {
   "display_name": "venv",
   "language": "python",
   "name": "venv"
  },
  "language_info": {
   "codemirror_mode": {
    "name": "ipython",
    "version": 3
   },
   "file_extension": ".py",
   "mimetype": "text/x-python",
   "name": "python",
   "nbconvert_exporter": "python",
   "pygments_lexer": "ipython3",
   "version": "3.8.7"
  }
 },
 "nbformat": 4,
 "nbformat_minor": 4
}
