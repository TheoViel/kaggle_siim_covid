{
 "cells": [
  {
   "cell_type": "code",
   "execution_count": null,
   "metadata": {},
   "outputs": [],
   "source": [
    "%load_ext autoreload\n",
    "%autoreload 2"
   ]
  },
  {
   "cell_type": "code",
   "execution_count": null,
   "metadata": {},
   "outputs": [],
   "source": [
    "%matplotlib inline"
   ]
  },
  {
   "cell_type": "code",
   "execution_count": null,
   "metadata": {},
   "outputs": [],
   "source": [
    "cd ../follidet/"
   ]
  },
  {
   "cell_type": "code",
   "execution_count": null,
   "metadata": {},
   "outputs": [],
   "source": [
    "import os\n",
    "import re\n",
    "import cv2\n",
    "import glob\n",
    "import json\n",
    "import copy\n",
    "import warnings\n",
    "import skimage.io\n",
    "import albumentations as albu\n",
    "\n",
    "import numpy as np\n",
    "import pandas as pd\n",
    "import matplotlib.pyplot as plt\n",
    "\n",
    "from tqdm.notebook import tqdm\n",
    "from collections import Counter\n",
    "from torch.utils.data import DataLoader\n",
    "from matplotlib.patches import Rectangle"
   ]
  },
  {
   "cell_type": "code",
   "execution_count": null,
   "metadata": {},
   "outputs": [],
   "source": [
    "from params import *\n",
    "from training.main import k_fold_training\n",
    "from model import define_model\n",
    "from data.dataset import FollicleDataset\n",
    "from data.transforms import OCT_preprocess\n",
    "from data.loader import get_collate_fns\n",
    "from util.plot import plot_sample, plot_predictions\n",
    "from util.logger import prepare_log_folder, save_config, create_logger"
   ]
  },
  {
   "cell_type": "markdown",
   "metadata": {},
   "source": [
    "## Data"
   ]
  },
  {
   "cell_type": "code",
   "execution_count": null,
   "metadata": {},
   "outputs": [],
   "source": [
    "df = pd.read_csv(DATA_PATH + METADATA_PATHS[0]).fillna('')"
   ]
  },
  {
   "cell_type": "markdown",
   "metadata": {},
   "source": [
    "## Model"
   ]
  },
  {
   "cell_type": "code",
   "execution_count": null,
   "metadata": {},
   "outputs": [],
   "source": [
    "class Config:\n",
    "    selected_model = \"efficientdet_d0\"\n",
    "#     selected_model = \"yolov5s\"\n",
    "    num_classes = 1\n",
    "    conf_thresh = 0.5\n",
    "    iou_thresh = 0.5\n",
    "    \n",
    "    bbox_format = \"yolo\" if \"yolo\" in selected_model else \"pascal_voc\"\n",
    "    \n",
    "    # Loss (YOLO)\n",
    "    gr = 1.0\n",
    "    autobalance = False\n",
    "    label_smoothing = 0\n",
    "    box = 0.05  # box loss gain\n",
    "    cls = 0.5  # cls loss gain\n",
    "    cls_pw = 1.0  # cls BCELoss positive_weight\n",
    "    obj = 1.0  # obj loss gain (scale with pixels)\n",
    "    obj_pw = 1.0  # obj BCELoss positive_weight\n",
    "    iou_t = 0.20  # IoU training threshold\n",
    "    anchor_t = 4.0  # anchor-multiple threshold\n",
    "    # anchors: 3  # anchors per output layer (0 to ignore)\n",
    "    fl_gamma = 0.0  # focal loss gamma (efficientDet default gamma=1.5)"
   ]
  },
  {
   "cell_type": "code",
   "execution_count": null,
   "metadata": {},
   "outputs": [],
   "source": [
    "transforms = OCT_preprocess(augment=False, visualize=True, bbox_format=Config.bbox_format)\n",
    "\n",
    "dataset = FollicleDataset(\n",
    "    df,\n",
    "    root=\"../data/processed/\",\n",
    "    transforms=transforms,\n",
    "    bbox_format=Config.bbox_format,\n",
    "    mosaic_proba=1,\n",
    ")\n",
    "\n",
    "img, boxes, shapes = dataset[423]\n",
    "plot_sample(img.numpy().transpose(1, 2, 0), boxes.copy(), bbox_format=Config.bbox_format)"
   ]
  },
  {
   "cell_type": "markdown",
   "metadata": {},
   "source": [
    "### Model"
   ]
  },
  {
   "cell_type": "markdown",
   "metadata": {},
   "source": [
    "#### Train"
   ]
  },
  {
   "cell_type": "code",
   "execution_count": null,
   "metadata": {},
   "outputs": [],
   "source": [
    "transforms = OCT_preprocess(augment=True, visualize=False, bbox_format=Config.bbox_format)\n",
    "\n",
    "dataset = FollicleDataset(\n",
    "    df,\n",
    "    root=\"../data/processed/\",\n",
    "    transforms=transforms,\n",
    "    bbox_format=Config.bbox_format,\n",
    ")\n",
    "img, boxes, shapes = dataset[0]\n",
    "\n",
    "collate_fn_train, collate_fn_val = get_collate_fns(Config.selected_model)\n",
    "loader = DataLoader(\n",
    "    dataset,\n",
    "    batch_size=4,\n",
    "    shuffle=False,\n",
    "    drop_last=True,\n",
    "    num_workers=4,\n",
    "#     pin_memory=True,\n",
    "    collate_fn=collate_fn_train\n",
    ")"
   ]
  },
  {
   "cell_type": "code",
   "execution_count": null,
   "metadata": {
    "scrolled": true
   },
   "outputs": [],
   "source": [
    "model = define_model(Config).train().cuda()"
   ]
  },
  {
   "cell_type": "code",
   "execution_count": null,
   "metadata": {},
   "outputs": [],
   "source": [
    "for batch in tqdm(loader):\n",
    "    imgs, labels, shapes = batch\n",
    "    nb, _, height, width = imgs.shape\n",
    "\n",
    "    y = model(imgs.cuda())\n",
    "    \n",
    "    loss = model.compute_loss(y, labels)\n",
    "\n",
    "    print(loss)\n",
    "    break"
   ]
  },
  {
   "cell_type": "markdown",
   "metadata": {},
   "source": [
    "#### Val"
   ]
  },
  {
   "cell_type": "code",
   "execution_count": null,
   "metadata": {},
   "outputs": [],
   "source": [
    "transforms = OCT_preprocess(augment=True, visualize=False, bbox_format=Config.bbox_format)\n",
    "\n",
    "dataset = FollicleDataset(\n",
    "    df,\n",
    "    root=\"../data/processed/\",\n",
    "    transforms=transforms,\n",
    "    bbox_format=Config.bbox_format,\n",
    ")\n",
    "img, boxes, shapes = dataset[0]\n",
    "\n",
    "collate_fn_train, collate_fn_val = get_collate_fns(Config.selected_model)\n",
    "loader = DataLoader(\n",
    "    dataset,\n",
    "    batch_size=4,\n",
    "    shuffle=False,\n",
    "    drop_last=True,\n",
    "    num_workers=1,\n",
    "    pin_memory=True,\n",
    "    collate_fn=collate_fn_val\n",
    ")"
   ]
  },
  {
   "cell_type": "code",
   "execution_count": null,
   "metadata": {
    "scrolled": true
   },
   "outputs": [],
   "source": [
    "model = define_model(Config).eval().cuda()"
   ]
  },
  {
   "cell_type": "code",
   "execution_count": null,
   "metadata": {},
   "outputs": [],
   "source": [
    "for batch in tqdm(loader):\n",
    "    imgs, labels, shapes = batch\n",
    "    nb, _, height, width = imgs.shape\n",
    "\n",
    "    y = model(imgs.cuda())\n",
    "    break"
   ]
  },
  {
   "cell_type": "code",
   "execution_count": null,
   "metadata": {},
   "outputs": [],
   "source": [
    "y"
   ]
  },
  {
   "cell_type": "markdown",
   "metadata": {},
   "source": [
    "## Main"
   ]
  },
  {
   "cell_type": "code",
   "execution_count": null,
   "metadata": {},
   "outputs": [],
   "source": [
    "BATCH_SIZES = {\n",
    "    \"yolov5s\": 32,\n",
    "    \"efficientdet_d0\": 16,\n",
    "    \"efficientdet_d1\": 16,\n",
    "}"
   ]
  },
  {
   "cell_type": "code",
   "execution_count": null,
   "metadata": {},
   "outputs": [],
   "source": [
    "class Config:\n",
    "    \"\"\"\n",
    "    Parameters used for training\n",
    "    \"\"\"\n",
    "    # General\n",
    "    seed = 42\n",
    "    verbose = 1\n",
    "    img_folder = \"../data/processed/\"\n",
    "    device = \"cuda\" if torch.cuda.is_available() else \"cpu\"\n",
    "    save_weights = True\n",
    "    first_epoch_eval = 3\n",
    "    verbose_plot = 0\n",
    "    \n",
    "    # k-fold\n",
    "    k = 5\n",
    "    selected_folds = [0]\n",
    "    \n",
    "    # Model\n",
    "    selected_model = \"yolov5s\"\n",
    "#     selected_model = \"efficientdet_d1\"\n",
    "    bbox_format = \"yolo\" if \"yolo\" in selected_model else \"pascal_voc\"\n",
    "    pred_format = \"pascal_voc\" #if \"yolo\" in selected_model else \"coco\"\n",
    "    num_classes = 1\n",
    "    \n",
    "    # Loss (YOLO)\n",
    "    gr = 1.0\n",
    "    autobalance = False\n",
    "    label_smoothing = 0\n",
    "    box = 0.05  # box loss gain\n",
    "    cls = 0.5  # cls loss gain\n",
    "    cls_pw = 1.0  # cls BCELoss positive_weight\n",
    "    obj = 1.0  # obj loss gain (scale with pixels)\n",
    "    obj_pw = 1.0  # obj BCELoss positive_weight\n",
    "    iou_t = 0.20  # IoU training threshold\n",
    "    anchor_t = 4.0  # anchor-multiple threshold\n",
    "    # anchors: 3  # anchors per output layer (0 to ignore)\n",
    "    fl_gamma = 0.0  # focal loss gamma (efficientDet default gamma=1.5)\n",
    "    \n",
    "    # NMS\n",
    "    conf_thresh = 0.5  # 0.1\n",
    "    iou_thresh = 0.5\n",
    "\n",
    "    # Training \n",
    "    optimizer = \"Adam\"\n",
    "    momentum = 0.937\n",
    "    weight_decay = 0.0005\n",
    "    \n",
    "    batch_size = BATCH_SIZES[selected_model]\n",
    "    val_bs = batch_size\n",
    "    \n",
    "    epochs = 10\n",
    "    lr = 5e-4\n",
    "    warmup_prop = 0.1\n",
    "    \n",
    "#     mix = \"cutmix\"\n",
    "#     mix_proba = 0.5\n",
    "#     mix_alpha = 5\n",
    "    mosaic_proba = 0\n"
   ]
  },
  {
   "cell_type": "code",
   "execution_count": null,
   "metadata": {},
   "outputs": [],
   "source": [
    "DEBUG = False\n",
    "log_folder = None"
   ]
  },
  {
   "cell_type": "code",
   "execution_count": null,
   "metadata": {},
   "outputs": [],
   "source": [
    "%matplotlib inline\n",
    "\n",
    "if not DEBUG:\n",
    "    log_folder = prepare_log_folder(LOG_PATH)\n",
    "    print(f\"Logging results to {log_folder}\")\n",
    "    save_config(Config, log_folder + \"config.json\")\n",
    "    df.to_csv(log_folder + \"data.csv\", index=False)\n",
    "    create_logger(directory=log_folder, name=\"logs.txt\")\n",
    "\n",
    "meters = k_fold_training(Config, df, log_folder=log_folder);"
   ]
  },
  {
   "cell_type": "code",
   "execution_count": null,
   "metadata": {
    "scrolled": false
   },
   "outputs": [],
   "source": [
    "meter = copy.deepcopy(meters[0])\n",
    "meter.compute(iou_threshold=0.2)"
   ]
  },
  {
   "cell_type": "code",
   "execution_count": null,
   "metadata": {
    "scrolled": true
   },
   "outputs": [],
   "source": [
    "meter.plot(10)"
   ]
  }
 ],
 "metadata": {
  "kernelspec": {
   "display_name": "venv",
   "language": "python",
   "name": "venv"
  },
  "language_info": {
   "codemirror_mode": {
    "name": "ipython",
    "version": 3
   },
   "file_extension": ".py",
   "mimetype": "text/x-python",
   "name": "python",
   "nbconvert_exporter": "python",
   "pygments_lexer": "ipython3",
   "version": "3.8.7"
  }
 },
 "nbformat": 4,
 "nbformat_minor": 4
}
